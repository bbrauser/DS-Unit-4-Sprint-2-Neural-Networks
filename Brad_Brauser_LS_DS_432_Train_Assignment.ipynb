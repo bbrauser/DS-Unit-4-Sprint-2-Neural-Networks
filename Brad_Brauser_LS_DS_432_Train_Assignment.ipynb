{
  "nbformat": 4,
  "nbformat_minor": 0,
  "metadata": {
    "colab": {
      "name": "Brad Brauser LS_DS_432_Train_Assignment.ipynb",
      "provenance": [],
      "collapsed_sections": [],
      "include_colab_link": true
    },
    "kernelspec": {
      "display_name": "Python 3",
      "language": "python",
      "name": "python3"
    },
    "language_info": {
      "codemirror_mode": {
        "name": "ipython",
        "version": 3
      },
      "file_extension": ".py",
      "mimetype": "text/x-python",
      "name": "python",
      "nbconvert_exporter": "python",
      "pygments_lexer": "ipython3",
      "version": "3.7.3"
    },
    "nteract": {
      "version": "0.22.4"
    },
    "accelerator": "GPU"
  },
  "cells": [
    {
      "cell_type": "markdown",
      "metadata": {
        "id": "view-in-github",
        "colab_type": "text"
      },
      "source": [
        "<a href=\"https://colab.research.google.com/github/bbrauser/DS-Unit-4-Sprint-2-Neural-Networks/blob/main/Brad_Brauser_LS_DS_432_Train_Assignment.ipynb\" target=\"_parent\"><img src=\"https://colab.research.google.com/assets/colab-badge.svg\" alt=\"Open In Colab\"/></a>"
      ]
    },
    {
      "cell_type": "markdown",
      "metadata": {
        "colab_type": "text",
        "id": "NGGrt9EYlCqY"
      },
      "source": [
        "<img align=\"left\" src=\"https://lever-client-logos.s3.amazonaws.com/864372b1-534c-480e-acd5-9711f850815c-1524247202159.png\" width=200>\n",
        "<br></br>\n",
        "<br></br>\n",
        "\n",
        "# Train Practice\n",
        "\n",
        "## *Data Science Unit 4 Sprint 2 Assignment 2*\n",
        "\n",
        "Continue to use TensorFlow Keras & a sample of the [Quickdraw dataset](https://github.com/googlecreativelab/quickdraw-dataset) to build a sketch classification model. The dataset has been sampled to only 10 classes and 10000 observations per class. Please build a baseline classification model then run a few experiments with different optimizers and learning rates. \n",
        "\n",
        "*Don't forgot to switch to GPU on Colab!*"
      ]
    },
    {
      "cell_type": "markdown",
      "metadata": {
        "id": "ptJ2b3wk62Ud",
        "colab_type": "text"
      },
      "source": [
        "### Write a function to load your data\n",
        "\n",
        "Wrap yesterday's preprocessing steps into a function that returns four items:\n",
        "* X_train\n",
        "* y_train\n",
        "* X_test\n",
        "* y_test\n",
        "\n",
        "Your function should accept a `path` to the data as a argument."
      ]
    },
    {
      "cell_type": "code",
      "metadata": {
        "id": "Ts01Ca0Ydbrh",
        "colab_type": "code",
        "colab": {}
      },
      "source": [
        "from tensorflow.keras.datasets import mnist\n",
        "from tensorflow.keras import Sequential\n",
        "from tensorflow.keras.layers import Dense\n",
        "from tensorflow.keras.optimizers import Adadelta, Adagrad, Adam, Adamax, Ftrl, Nadam, Optimizer, RMSprop, SGD"
      ],
      "execution_count": null,
      "outputs": []
    },
    {
      "cell_type": "code",
      "metadata": {
        "id": "nJsIsrvp7O3e",
        "colab_type": "code",
        "colab": {}
      },
      "source": [
        "def load_quickdraw10(path):\n",
        "  data = np.load(path)\n",
        "  X = data['arr_0']\n",
        "  y = data['arr_1']\n",
        "  X_train, X_test, y_train, y_test = train_test_split(X, y, test_size=0.2, random_state=42)\n",
        "  return X_train, X_test, y_train, y_test"
      ],
      "execution_count": null,
      "outputs": []
    },
    {
      "cell_type": "code",
      "metadata": {
        "id": "oCLGMfzRdvhg",
        "colab_type": "code",
        "colab": {
          "base_uri": "https://localhost:8080/",
          "height": 51
        },
        "outputId": "c2b90e50-1d5a-4c24-e55b-d6840ca39a06"
      },
      "source": [
        "(X_train, y_train), (X_test, y_test) = mnist.load_data()\n",
        "\n",
        "X_train = X_train / 255.\n",
        "X_test = X_test / 255.\n",
        "\n",
        "X_train = X_train.reshape((60000, 784))\n",
        "X_test = X_test.reshape((10000, 784))"
      ],
      "execution_count": null,
      "outputs": [
        {
          "output_type": "stream",
          "text": [
            "Downloading data from https://storage.googleapis.com/tensorflow/tf-keras-datasets/mnist.npz\n",
            "11493376/11490434 [==============================] - 0s 0us/step\n"
          ],
          "name": "stdout"
        }
      ]
    },
    {
      "cell_type": "markdown",
      "metadata": {
        "id": "l-6PxI6H5__2",
        "colab_type": "text"
      },
      "source": [
        "### Write a Model Function\n",
        "Using your model from yesterday, write a function called `create_model` which returns a compiled TensorFlow Keras Sequential Model suitable for classifying the QuickDraw-10 dataset. Include parameters for the following: \n",
        "* Learning Rate\n",
        "* Optimizer"
      ]
    },
    {
      "cell_type": "code",
      "metadata": {
        "colab_type": "code",
        "id": "nEREYT-3wI1f",
        "colab": {}
      },
      "source": [
        "##### Your Code Here #####\n",
        "\n",
        "def create_model(optimizer=SGD, lr=.01):\n",
        "  model = Sequential(\n",
        "      [\n",
        "       Dense(32, activation='relu', input_dim=784),\n",
        "       Dense(32, activation='relu'),\n",
        "       Dense(10, activation='softmax')       \n",
        "      ]\n",
        ")\n",
        "  model.compile(loss='sparse_categorical_crossentropy',\n",
        "                metrics=['accuracy'])\n",
        "  return model"
      ],
      "execution_count": null,
      "outputs": []
    },
    {
      "cell_type": "markdown",
      "metadata": {
        "id": "f0pCkh8C7eGL",
        "colab_type": "text"
      },
      "source": [
        "### Experiment with Batch Size\n",
        "* Run 5 experiments with various batch sizes of your choice. \n",
        "* Visualize the results\n",
        "* Write up an analysis of the experiments and select the \"best\" performing model among your experiments. Make sure to compare against your model's performance yesterday. "
      ]
    },
    {
      "cell_type": "code",
      "metadata": {
        "id": "USXjs7Hk71Hy",
        "colab_type": "code",
        "colab": {
          "base_uri": "https://localhost:8080/",
          "height": 867
        },
        "outputId": "363edb80-34a1-4ef0-e569-12b640f1145d"
      },
      "source": [
        "mnist_model_8 = create_model()\n",
        "\n",
        "bt_8 = mnist_model_8.fit(X_train, y_train,\n",
        "                                # Hyperparameters!\n",
        "                                epochs=25,\n",
        "                                batch_size=8,\n",
        "                                validation_data=(X_test, y_test))"
      ],
      "execution_count": null,
      "outputs": [
        {
          "output_type": "stream",
          "text": [
            "Epoch 1/25\n",
            "7500/7500 [==============================] - 15s 2ms/step - loss: 0.3172 - accuracy: 0.9092 - val_loss: 0.2050 - val_accuracy: 0.9433\n",
            "Epoch 2/25\n",
            "7500/7500 [==============================] - 15s 2ms/step - loss: 0.1919 - accuracy: 0.9478 - val_loss: 0.1765 - val_accuracy: 0.9524\n",
            "Epoch 3/25\n",
            "7500/7500 [==============================] - 15s 2ms/step - loss: 0.1712 - accuracy: 0.9566 - val_loss: 0.1656 - val_accuracy: 0.9569\n",
            "Epoch 4/25\n",
            "7500/7500 [==============================] - 15s 2ms/step - loss: 0.1646 - accuracy: 0.9596 - val_loss: 0.1811 - val_accuracy: 0.9574\n",
            "Epoch 5/25\n",
            "7500/7500 [==============================] - 15s 2ms/step - loss: 0.1630 - accuracy: 0.9628 - val_loss: 0.2207 - val_accuracy: 0.9576\n",
            "Epoch 6/25\n",
            "7500/7500 [==============================] - 16s 2ms/step - loss: 0.1647 - accuracy: 0.9639 - val_loss: 0.2004 - val_accuracy: 0.9619\n",
            "Epoch 7/25\n",
            "7500/7500 [==============================] - 15s 2ms/step - loss: 0.1589 - accuracy: 0.9659 - val_loss: 0.2070 - val_accuracy: 0.9577\n",
            "Epoch 8/25\n",
            "7500/7500 [==============================] - 15s 2ms/step - loss: 0.1633 - accuracy: 0.9667 - val_loss: 0.2268 - val_accuracy: 0.9585\n",
            "Epoch 9/25\n",
            "7500/7500 [==============================] - 15s 2ms/step - loss: 0.1666 - accuracy: 0.9676 - val_loss: 0.2339 - val_accuracy: 0.9611\n",
            "Epoch 10/25\n",
            "7500/7500 [==============================] - 15s 2ms/step - loss: 0.1659 - accuracy: 0.9682 - val_loss: 0.2441 - val_accuracy: 0.9606\n",
            "Epoch 11/25\n",
            "7500/7500 [==============================] - 15s 2ms/step - loss: 0.1677 - accuracy: 0.9688 - val_loss: 0.2621 - val_accuracy: 0.9591\n",
            "Epoch 12/25\n",
            "7500/7500 [==============================] - 15s 2ms/step - loss: 0.1678 - accuracy: 0.9696 - val_loss: 0.2975 - val_accuracy: 0.9551\n",
            "Epoch 13/25\n",
            "7500/7500 [==============================] - 15s 2ms/step - loss: 0.1694 - accuracy: 0.9706 - val_loss: 0.3346 - val_accuracy: 0.9560\n",
            "Epoch 14/25\n",
            "7500/7500 [==============================] - 15s 2ms/step - loss: 0.1641 - accuracy: 0.9700 - val_loss: 0.3177 - val_accuracy: 0.9611\n",
            "Epoch 15/25\n",
            "7500/7500 [==============================] - 15s 2ms/step - loss: 0.1694 - accuracy: 0.9711 - val_loss: 0.3152 - val_accuracy: 0.9615\n",
            "Epoch 16/25\n",
            "7500/7500 [==============================] - 15s 2ms/step - loss: 0.1726 - accuracy: 0.9699 - val_loss: 0.2987 - val_accuracy: 0.9597\n",
            "Epoch 17/25\n",
            "7500/7500 [==============================] - 15s 2ms/step - loss: 0.1747 - accuracy: 0.9718 - val_loss: 0.3172 - val_accuracy: 0.9570\n",
            "Epoch 18/25\n",
            "7500/7500 [==============================] - 15s 2ms/step - loss: 0.1715 - accuracy: 0.9728 - val_loss: 0.3602 - val_accuracy: 0.9577\n",
            "Epoch 19/25\n",
            "7500/7500 [==============================] - 15s 2ms/step - loss: 0.1727 - accuracy: 0.9721 - val_loss: 0.3288 - val_accuracy: 0.9584\n",
            "Epoch 20/25\n",
            "7500/7500 [==============================] - 15s 2ms/step - loss: 0.1817 - accuracy: 0.9716 - val_loss: 0.3679 - val_accuracy: 0.9567\n",
            "Epoch 21/25\n",
            "7500/7500 [==============================] - 15s 2ms/step - loss: 0.1763 - accuracy: 0.9724 - val_loss: 0.4055 - val_accuracy: 0.9592\n",
            "Epoch 22/25\n",
            "7500/7500 [==============================] - 15s 2ms/step - loss: 0.1803 - accuracy: 0.9726 - val_loss: 0.4097 - val_accuracy: 0.9585\n",
            "Epoch 23/25\n",
            "7500/7500 [==============================] - 15s 2ms/step - loss: 0.1817 - accuracy: 0.9729 - val_loss: 0.4576 - val_accuracy: 0.9475\n",
            "Epoch 24/25\n",
            "7500/7500 [==============================] - 15s 2ms/step - loss: 0.1844 - accuracy: 0.9727 - val_loss: 0.5223 - val_accuracy: 0.9537\n",
            "Epoch 25/25\n",
            "7500/7500 [==============================] - 15s 2ms/step - loss: 0.1835 - accuracy: 0.9728 - val_loss: 0.4829 - val_accuracy: 0.9532\n"
          ],
          "name": "stdout"
        }
      ]
    },
    {
      "cell_type": "code",
      "metadata": {
        "id": "WGVFz71RcN43",
        "colab_type": "code",
        "colab": {
          "base_uri": "https://localhost:8080/",
          "height": 867
        },
        "outputId": "4211734a-ac83-4097-d4b5-808d50f1d4bc"
      },
      "source": [
        "mnist_model_32 = create_model()\n",
        "\n",
        "bt_32 = mnist_model_32.fit(X_train, y_train,\n",
        "                                # Hyperparameters!\n",
        "                                epochs=25,\n",
        "                                batch_size=32,\n",
        "                                validation_data=(X_test, y_test))"
      ],
      "execution_count": null,
      "outputs": [
        {
          "output_type": "stream",
          "text": [
            "Epoch 1/25\n",
            "1875/1875 [==============================] - 4s 2ms/step - loss: 0.3555 - accuracy: 0.9000 - val_loss: 0.2057 - val_accuracy: 0.9371\n",
            "Epoch 2/25\n",
            "1875/1875 [==============================] - 4s 2ms/step - loss: 0.1791 - accuracy: 0.9470 - val_loss: 0.1625 - val_accuracy: 0.9524\n",
            "Epoch 3/25\n",
            "1875/1875 [==============================] - 4s 2ms/step - loss: 0.1402 - accuracy: 0.9589 - val_loss: 0.1476 - val_accuracy: 0.9549\n",
            "Epoch 4/25\n",
            "1875/1875 [==============================] - 4s 2ms/step - loss: 0.1220 - accuracy: 0.9631 - val_loss: 0.1304 - val_accuracy: 0.9625\n",
            "Epoch 5/25\n",
            "1875/1875 [==============================] - 4s 2ms/step - loss: 0.1090 - accuracy: 0.9682 - val_loss: 0.1255 - val_accuracy: 0.9646\n",
            "Epoch 6/25\n",
            "1875/1875 [==============================] - 4s 2ms/step - loss: 0.0997 - accuracy: 0.9710 - val_loss: 0.1285 - val_accuracy: 0.9651\n",
            "Epoch 7/25\n",
            "1875/1875 [==============================] - 4s 2ms/step - loss: 0.0926 - accuracy: 0.9732 - val_loss: 0.1363 - val_accuracy: 0.9622\n",
            "Epoch 8/25\n",
            "1875/1875 [==============================] - 4s 2ms/step - loss: 0.0857 - accuracy: 0.9752 - val_loss: 0.1286 - val_accuracy: 0.9653\n",
            "Epoch 9/25\n",
            "1875/1875 [==============================] - 4s 2ms/step - loss: 0.0804 - accuracy: 0.9768 - val_loss: 0.1273 - val_accuracy: 0.9670\n",
            "Epoch 10/25\n",
            "1875/1875 [==============================] - 4s 2ms/step - loss: 0.0770 - accuracy: 0.9782 - val_loss: 0.1324 - val_accuracy: 0.9649\n",
            "Epoch 11/25\n",
            "1875/1875 [==============================] - 4s 2ms/step - loss: 0.0733 - accuracy: 0.9792 - val_loss: 0.1390 - val_accuracy: 0.9652\n",
            "Epoch 12/25\n",
            "1875/1875 [==============================] - 4s 2ms/step - loss: 0.0704 - accuracy: 0.9796 - val_loss: 0.1451 - val_accuracy: 0.9658\n",
            "Epoch 13/25\n",
            "1875/1875 [==============================] - 4s 2ms/step - loss: 0.0677 - accuracy: 0.9803 - val_loss: 0.1403 - val_accuracy: 0.9668\n",
            "Epoch 14/25\n",
            "1875/1875 [==============================] - 4s 2ms/step - loss: 0.0653 - accuracy: 0.9819 - val_loss: 0.1362 - val_accuracy: 0.9684\n",
            "Epoch 15/25\n",
            "1875/1875 [==============================] - 4s 2ms/step - loss: 0.0616 - accuracy: 0.9827 - val_loss: 0.1436 - val_accuracy: 0.9655\n",
            "Epoch 16/25\n",
            "1875/1875 [==============================] - 4s 2ms/step - loss: 0.0613 - accuracy: 0.9829 - val_loss: 0.1418 - val_accuracy: 0.9650\n",
            "Epoch 17/25\n",
            "1875/1875 [==============================] - 4s 2ms/step - loss: 0.0582 - accuracy: 0.9836 - val_loss: 0.1696 - val_accuracy: 0.9653\n",
            "Epoch 18/25\n",
            "1875/1875 [==============================] - 4s 2ms/step - loss: 0.0568 - accuracy: 0.9843 - val_loss: 0.1533 - val_accuracy: 0.9677\n",
            "Epoch 19/25\n",
            "1875/1875 [==============================] - 4s 2ms/step - loss: 0.0546 - accuracy: 0.9845 - val_loss: 0.1539 - val_accuracy: 0.9660\n",
            "Epoch 20/25\n",
            "1875/1875 [==============================] - 4s 2ms/step - loss: 0.0541 - accuracy: 0.9846 - val_loss: 0.1450 - val_accuracy: 0.9675\n",
            "Epoch 21/25\n",
            "1875/1875 [==============================] - 4s 2ms/step - loss: 0.0527 - accuracy: 0.9857 - val_loss: 0.1573 - val_accuracy: 0.9653\n",
            "Epoch 22/25\n",
            "1875/1875 [==============================] - 4s 2ms/step - loss: 0.0494 - accuracy: 0.9862 - val_loss: 0.1643 - val_accuracy: 0.9656\n",
            "Epoch 23/25\n",
            "1875/1875 [==============================] - 4s 2ms/step - loss: 0.0492 - accuracy: 0.9864 - val_loss: 0.1807 - val_accuracy: 0.9653\n",
            "Epoch 24/25\n",
            "1875/1875 [==============================] - 4s 2ms/step - loss: 0.0476 - accuracy: 0.9865 - val_loss: 0.1889 - val_accuracy: 0.9648\n",
            "Epoch 25/25\n",
            "1875/1875 [==============================] - 4s 2ms/step - loss: 0.0467 - accuracy: 0.9875 - val_loss: 0.1852 - val_accuracy: 0.9675\n"
          ],
          "name": "stdout"
        }
      ]
    },
    {
      "cell_type": "code",
      "metadata": {
        "id": "E_Yw80KccOCA",
        "colab_type": "code",
        "colab": {
          "base_uri": "https://localhost:8080/",
          "height": 867
        },
        "outputId": "5a422439-8529-466e-f1aa-06e0f43f79f8"
      },
      "source": [
        "mnist_model_128 = create_model()\n",
        "\n",
        "bt_128 = mnist_model_128.fit(X_train, y_train,\n",
        "                                # Hyperparameters!\n",
        "                                epochs=25,\n",
        "                                batch_size=128,\n",
        "                                validation_data=(X_test, y_test))"
      ],
      "execution_count": null,
      "outputs": [
        {
          "output_type": "stream",
          "text": [
            "Epoch 1/25\n",
            "469/469 [==============================] - 1s 3ms/step - loss: 0.4943 - accuracy: 0.8667 - val_loss: 0.2587 - val_accuracy: 0.9239\n",
            "Epoch 2/25\n",
            "469/469 [==============================] - 1s 3ms/step - loss: 0.2414 - accuracy: 0.9300 - val_loss: 0.2172 - val_accuracy: 0.9352\n",
            "Epoch 3/25\n",
            "469/469 [==============================] - 1s 3ms/step - loss: 0.1950 - accuracy: 0.9434 - val_loss: 0.1818 - val_accuracy: 0.9444\n",
            "Epoch 4/25\n",
            "469/469 [==============================] - 1s 3ms/step - loss: 0.1647 - accuracy: 0.9512 - val_loss: 0.1561 - val_accuracy: 0.9526\n",
            "Epoch 5/25\n",
            "469/469 [==============================] - 1s 3ms/step - loss: 0.1439 - accuracy: 0.9570 - val_loss: 0.1410 - val_accuracy: 0.9562\n",
            "Epoch 6/25\n",
            "469/469 [==============================] - 1s 3ms/step - loss: 0.1268 - accuracy: 0.9627 - val_loss: 0.1354 - val_accuracy: 0.9583\n",
            "Epoch 7/25\n",
            "469/469 [==============================] - 1s 3ms/step - loss: 0.1141 - accuracy: 0.9662 - val_loss: 0.1257 - val_accuracy: 0.9607\n",
            "Epoch 8/25\n",
            "469/469 [==============================] - 1s 3ms/step - loss: 0.1039 - accuracy: 0.9689 - val_loss: 0.1264 - val_accuracy: 0.9610\n",
            "Epoch 9/25\n",
            "469/469 [==============================] - 1s 3ms/step - loss: 0.0955 - accuracy: 0.9708 - val_loss: 0.1146 - val_accuracy: 0.9652\n",
            "Epoch 10/25\n",
            "469/469 [==============================] - 1s 3ms/step - loss: 0.0886 - accuracy: 0.9733 - val_loss: 0.1197 - val_accuracy: 0.9643\n",
            "Epoch 11/25\n",
            "469/469 [==============================] - 1s 3ms/step - loss: 0.0829 - accuracy: 0.9751 - val_loss: 0.1119 - val_accuracy: 0.9661\n",
            "Epoch 12/25\n",
            "469/469 [==============================] - 1s 3ms/step - loss: 0.0768 - accuracy: 0.9761 - val_loss: 0.1064 - val_accuracy: 0.9676\n",
            "Epoch 13/25\n",
            "469/469 [==============================] - 1s 3ms/step - loss: 0.0725 - accuracy: 0.9775 - val_loss: 0.1087 - val_accuracy: 0.9679\n",
            "Epoch 14/25\n",
            "469/469 [==============================] - 1s 3ms/step - loss: 0.0679 - accuracy: 0.9790 - val_loss: 0.1093 - val_accuracy: 0.9662\n",
            "Epoch 15/25\n",
            "469/469 [==============================] - 1s 3ms/step - loss: 0.0647 - accuracy: 0.9803 - val_loss: 0.1011 - val_accuracy: 0.9687\n",
            "Epoch 16/25\n",
            "469/469 [==============================] - 1s 3ms/step - loss: 0.0607 - accuracy: 0.9816 - val_loss: 0.1027 - val_accuracy: 0.9689\n",
            "Epoch 17/25\n",
            "469/469 [==============================] - 1s 3ms/step - loss: 0.0580 - accuracy: 0.9822 - val_loss: 0.1033 - val_accuracy: 0.9684\n",
            "Epoch 18/25\n",
            "469/469 [==============================] - 1s 3ms/step - loss: 0.0542 - accuracy: 0.9833 - val_loss: 0.1084 - val_accuracy: 0.9682\n",
            "Epoch 19/25\n",
            "469/469 [==============================] - 1s 3ms/step - loss: 0.0521 - accuracy: 0.9841 - val_loss: 0.1111 - val_accuracy: 0.9667\n",
            "Epoch 20/25\n",
            "469/469 [==============================] - 1s 3ms/step - loss: 0.0490 - accuracy: 0.9851 - val_loss: 0.1161 - val_accuracy: 0.9673\n",
            "Epoch 21/25\n",
            "469/469 [==============================] - 1s 3ms/step - loss: 0.0475 - accuracy: 0.9853 - val_loss: 0.1126 - val_accuracy: 0.9683\n",
            "Epoch 22/25\n",
            "469/469 [==============================] - 1s 3ms/step - loss: 0.0446 - accuracy: 0.9862 - val_loss: 0.1075 - val_accuracy: 0.9689\n",
            "Epoch 23/25\n",
            "469/469 [==============================] - 1s 3ms/step - loss: 0.0426 - accuracy: 0.9871 - val_loss: 0.1070 - val_accuracy: 0.9706\n",
            "Epoch 24/25\n",
            "469/469 [==============================] - 1s 3ms/step - loss: 0.0414 - accuracy: 0.9868 - val_loss: 0.1147 - val_accuracy: 0.9682\n",
            "Epoch 25/25\n",
            "469/469 [==============================] - 1s 3ms/step - loss: 0.0393 - accuracy: 0.9876 - val_loss: 0.1204 - val_accuracy: 0.9659\n"
          ],
          "name": "stdout"
        }
      ]
    },
    {
      "cell_type": "code",
      "metadata": {
        "id": "s_QqTbercOKG",
        "colab_type": "code",
        "colab": {
          "base_uri": "https://localhost:8080/",
          "height": 867
        },
        "outputId": "2a2168c6-3b9a-4a69-a6b5-bfa91266188d"
      },
      "source": [
        "mnist_model_256 = create_model()\n",
        "\n",
        "bt_256 = mnist_model_256.fit(X_train, y_train,\n",
        "                                # Hyperparameters!\n",
        "                                epochs=25,\n",
        "                                batch_size=256,\n",
        "                                validation_data=(X_test, y_test))"
      ],
      "execution_count": null,
      "outputs": [
        {
          "output_type": "stream",
          "text": [
            "Epoch 1/25\n",
            "235/235 [==============================] - 1s 3ms/step - loss: 0.5684 - accuracy: 0.8500 - val_loss: 0.2962 - val_accuracy: 0.9131\n",
            "Epoch 2/25\n",
            "235/235 [==============================] - 1s 3ms/step - loss: 0.2571 - accuracy: 0.9257 - val_loss: 0.2505 - val_accuracy: 0.9242\n",
            "Epoch 3/25\n",
            "235/235 [==============================] - 1s 3ms/step - loss: 0.2079 - accuracy: 0.9394 - val_loss: 0.1925 - val_accuracy: 0.9407\n",
            "Epoch 4/25\n",
            "235/235 [==============================] - 1s 3ms/step - loss: 0.1789 - accuracy: 0.9476 - val_loss: 0.1680 - val_accuracy: 0.9486\n",
            "Epoch 5/25\n",
            "235/235 [==============================] - 1s 3ms/step - loss: 0.1588 - accuracy: 0.9536 - val_loss: 0.1553 - val_accuracy: 0.9539\n",
            "Epoch 6/25\n",
            "235/235 [==============================] - 1s 3ms/step - loss: 0.1436 - accuracy: 0.9575 - val_loss: 0.1488 - val_accuracy: 0.9572\n",
            "Epoch 7/25\n",
            "235/235 [==============================] - 1s 3ms/step - loss: 0.1315 - accuracy: 0.9604 - val_loss: 0.1511 - val_accuracy: 0.9555\n",
            "Epoch 8/25\n",
            "235/235 [==============================] - 1s 3ms/step - loss: 0.1210 - accuracy: 0.9640 - val_loss: 0.1376 - val_accuracy: 0.9596\n",
            "Epoch 9/25\n",
            "235/235 [==============================] - 1s 3ms/step - loss: 0.1130 - accuracy: 0.9660 - val_loss: 0.1323 - val_accuracy: 0.9593\n",
            "Epoch 10/25\n",
            "235/235 [==============================] - 1s 3ms/step - loss: 0.1050 - accuracy: 0.9682 - val_loss: 0.1370 - val_accuracy: 0.9589\n",
            "Epoch 11/25\n",
            "235/235 [==============================] - 1s 3ms/step - loss: 0.0989 - accuracy: 0.9701 - val_loss: 0.1220 - val_accuracy: 0.9644\n",
            "Epoch 12/25\n",
            "235/235 [==============================] - 1s 3ms/step - loss: 0.0927 - accuracy: 0.9716 - val_loss: 0.1220 - val_accuracy: 0.9633\n",
            "Epoch 13/25\n",
            "235/235 [==============================] - 1s 3ms/step - loss: 0.0875 - accuracy: 0.9734 - val_loss: 0.1218 - val_accuracy: 0.9634\n",
            "Epoch 14/25\n",
            "235/235 [==============================] - 1s 3ms/step - loss: 0.0833 - accuracy: 0.9744 - val_loss: 0.1373 - val_accuracy: 0.9585\n",
            "Epoch 15/25\n",
            "235/235 [==============================] - 1s 3ms/step - loss: 0.0789 - accuracy: 0.9755 - val_loss: 0.1157 - val_accuracy: 0.9667\n",
            "Epoch 16/25\n",
            "235/235 [==============================] - 1s 3ms/step - loss: 0.0747 - accuracy: 0.9768 - val_loss: 0.1275 - val_accuracy: 0.9606\n",
            "Epoch 17/25\n",
            "235/235 [==============================] - 1s 3ms/step - loss: 0.0707 - accuracy: 0.9786 - val_loss: 0.1362 - val_accuracy: 0.9595\n",
            "Epoch 18/25\n",
            "235/235 [==============================] - 1s 3ms/step - loss: 0.0681 - accuracy: 0.9785 - val_loss: 0.1157 - val_accuracy: 0.9672\n",
            "Epoch 19/25\n",
            "235/235 [==============================] - 1s 3ms/step - loss: 0.0648 - accuracy: 0.9801 - val_loss: 0.1169 - val_accuracy: 0.9674\n",
            "Epoch 20/25\n",
            "235/235 [==============================] - 1s 3ms/step - loss: 0.0618 - accuracy: 0.9812 - val_loss: 0.1184 - val_accuracy: 0.9657\n",
            "Epoch 21/25\n",
            "235/235 [==============================] - 1s 3ms/step - loss: 0.0601 - accuracy: 0.9817 - val_loss: 0.1141 - val_accuracy: 0.9674\n",
            "Epoch 22/25\n",
            "235/235 [==============================] - 1s 3ms/step - loss: 0.0562 - accuracy: 0.9830 - val_loss: 0.1287 - val_accuracy: 0.9640\n",
            "Epoch 23/25\n",
            "235/235 [==============================] - 1s 3ms/step - loss: 0.0543 - accuracy: 0.9835 - val_loss: 0.1257 - val_accuracy: 0.9652\n",
            "Epoch 24/25\n",
            "235/235 [==============================] - 1s 3ms/step - loss: 0.0521 - accuracy: 0.9847 - val_loss: 0.1207 - val_accuracy: 0.9664\n",
            "Epoch 25/25\n",
            "235/235 [==============================] - 1s 3ms/step - loss: 0.0500 - accuracy: 0.9848 - val_loss: 0.1165 - val_accuracy: 0.9680\n"
          ],
          "name": "stdout"
        }
      ]
    },
    {
      "cell_type": "code",
      "metadata": {
        "id": "bUrSiK8WcORq",
        "colab_type": "code",
        "colab": {
          "base_uri": "https://localhost:8080/",
          "height": 867
        },
        "outputId": "6a98ebc6-e8cf-48b4-af0c-76462b9f2aa7"
      },
      "source": [
        "mnist_model_512 = create_model()\n",
        "\n",
        "bt_512 = mnist_model_512.fit(X_train, y_train,\n",
        "                                # Hyperparameters!\n",
        "                                epochs=25,\n",
        "                                batch_size=512,\n",
        "                                validation_data=(X_test, y_test))"
      ],
      "execution_count": null,
      "outputs": [
        {
          "output_type": "stream",
          "text": [
            "Epoch 1/25\n",
            "118/118 [==============================] - 0s 4ms/step - loss: 0.7749 - accuracy: 0.8008 - val_loss: 0.3876 - val_accuracy: 0.8896\n",
            "Epoch 2/25\n",
            "118/118 [==============================] - 0s 3ms/step - loss: 0.3230 - accuracy: 0.9079 - val_loss: 0.3117 - val_accuracy: 0.9012\n",
            "Epoch 3/25\n",
            "118/118 [==============================] - 0s 3ms/step - loss: 0.2605 - accuracy: 0.9244 - val_loss: 0.2648 - val_accuracy: 0.9209\n",
            "Epoch 4/25\n",
            "118/118 [==============================] - 0s 3ms/step - loss: 0.2232 - accuracy: 0.9358 - val_loss: 0.2112 - val_accuracy: 0.9385\n",
            "Epoch 5/25\n",
            "118/118 [==============================] - 0s 3ms/step - loss: 0.1979 - accuracy: 0.9430 - val_loss: 0.2151 - val_accuracy: 0.9365\n",
            "Epoch 6/25\n",
            "118/118 [==============================] - 0s 3ms/step - loss: 0.1785 - accuracy: 0.9479 - val_loss: 0.1769 - val_accuracy: 0.9468\n",
            "Epoch 7/25\n",
            "118/118 [==============================] - 0s 3ms/step - loss: 0.1640 - accuracy: 0.9527 - val_loss: 0.2019 - val_accuracy: 0.9393\n",
            "Epoch 8/25\n",
            "118/118 [==============================] - 0s 3ms/step - loss: 0.1519 - accuracy: 0.9556 - val_loss: 0.1575 - val_accuracy: 0.9527\n",
            "Epoch 9/25\n",
            "118/118 [==============================] - 0s 3ms/step - loss: 0.1411 - accuracy: 0.9585 - val_loss: 0.1631 - val_accuracy: 0.9494\n",
            "Epoch 10/25\n",
            "118/118 [==============================] - 0s 3ms/step - loss: 0.1319 - accuracy: 0.9612 - val_loss: 0.1533 - val_accuracy: 0.9532\n",
            "Epoch 11/25\n",
            "118/118 [==============================] - 0s 3ms/step - loss: 0.1251 - accuracy: 0.9631 - val_loss: 0.1482 - val_accuracy: 0.9534\n",
            "Epoch 12/25\n",
            "118/118 [==============================] - 0s 3ms/step - loss: 0.1186 - accuracy: 0.9643 - val_loss: 0.1399 - val_accuracy: 0.9588\n",
            "Epoch 13/25\n",
            "118/118 [==============================] - 0s 3ms/step - loss: 0.1118 - accuracy: 0.9665 - val_loss: 0.1494 - val_accuracy: 0.9553\n",
            "Epoch 14/25\n",
            "118/118 [==============================] - 0s 3ms/step - loss: 0.1071 - accuracy: 0.9681 - val_loss: 0.1285 - val_accuracy: 0.9615\n",
            "Epoch 15/25\n",
            "118/118 [==============================] - 0s 3ms/step - loss: 0.1016 - accuracy: 0.9695 - val_loss: 0.1409 - val_accuracy: 0.9579\n",
            "Epoch 16/25\n",
            "118/118 [==============================] - 0s 3ms/step - loss: 0.0978 - accuracy: 0.9701 - val_loss: 0.1247 - val_accuracy: 0.9630\n",
            "Epoch 17/25\n",
            "118/118 [==============================] - 0s 3ms/step - loss: 0.0945 - accuracy: 0.9714 - val_loss: 0.1618 - val_accuracy: 0.9525\n",
            "Epoch 18/25\n",
            "118/118 [==============================] - 0s 3ms/step - loss: 0.0908 - accuracy: 0.9718 - val_loss: 0.1251 - val_accuracy: 0.9628\n",
            "Epoch 19/25\n",
            "118/118 [==============================] - 0s 3ms/step - loss: 0.0871 - accuracy: 0.9731 - val_loss: 0.1364 - val_accuracy: 0.9585\n",
            "Epoch 20/25\n",
            "118/118 [==============================] - 0s 3ms/step - loss: 0.0839 - accuracy: 0.9750 - val_loss: 0.1173 - val_accuracy: 0.9639\n",
            "Epoch 21/25\n",
            "118/118 [==============================] - 0s 3ms/step - loss: 0.0814 - accuracy: 0.9759 - val_loss: 0.1142 - val_accuracy: 0.9651\n",
            "Epoch 22/25\n",
            "118/118 [==============================] - 0s 3ms/step - loss: 0.0788 - accuracy: 0.9762 - val_loss: 0.1126 - val_accuracy: 0.9672\n",
            "Epoch 23/25\n",
            "118/118 [==============================] - 0s 3ms/step - loss: 0.0766 - accuracy: 0.9769 - val_loss: 0.1189 - val_accuracy: 0.9631\n",
            "Epoch 24/25\n",
            "118/118 [==============================] - 0s 3ms/step - loss: 0.0739 - accuracy: 0.9780 - val_loss: 0.1162 - val_accuracy: 0.9658\n",
            "Epoch 25/25\n",
            "118/118 [==============================] - 0s 3ms/step - loss: 0.0717 - accuracy: 0.9790 - val_loss: 0.1219 - val_accuracy: 0.9643\n"
          ],
          "name": "stdout"
        }
      ]
    },
    {
      "cell_type": "code",
      "metadata": {
        "id": "IbsF528mgEdP",
        "colab_type": "code",
        "colab": {
          "base_uri": "https://localhost:8080/",
          "height": 238
        },
        "outputId": "ee1498c2-931a-4899-f045-a9355a989290"
      },
      "source": [
        "import seaborn as sns\n",
        "import pandas as pd\n",
        "\n",
        "batch_sizes = []\n",
        "\n",
        "for exp, result in zip([bt_8, bt_32, bt_128, bt_256, bt_512], [\"8_\", \"32_\", \"128_\", \"256_\", \"512_\"]):\n",
        "\n",
        "  df = pd.DataFrame.from_dict(exp.history)\n",
        "  df['epoch'] = df.index.values\n",
        "  df['Batch Size'] = result\n",
        "\n",
        "  batch_sizes.append(df)\n",
        "\n",
        "df = pd.concat(batch_sizes)\n",
        "df['Batch Size'] = df['Batch Size'].astype('str')\n",
        "df.head()"
      ],
      "execution_count": null,
      "outputs": [
        {
          "output_type": "stream",
          "text": [
            "/usr/local/lib/python3.6/dist-packages/statsmodels/tools/_testing.py:19: FutureWarning: pandas.util.testing is deprecated. Use the functions in the public API at pandas.testing instead.\n",
            "  import pandas.util.testing as tm\n"
          ],
          "name": "stderr"
        },
        {
          "output_type": "execute_result",
          "data": {
            "text/html": [
              "<div>\n",
              "<style scoped>\n",
              "    .dataframe tbody tr th:only-of-type {\n",
              "        vertical-align: middle;\n",
              "    }\n",
              "\n",
              "    .dataframe tbody tr th {\n",
              "        vertical-align: top;\n",
              "    }\n",
              "\n",
              "    .dataframe thead th {\n",
              "        text-align: right;\n",
              "    }\n",
              "</style>\n",
              "<table border=\"1\" class=\"dataframe\">\n",
              "  <thead>\n",
              "    <tr style=\"text-align: right;\">\n",
              "      <th></th>\n",
              "      <th>loss</th>\n",
              "      <th>accuracy</th>\n",
              "      <th>val_loss</th>\n",
              "      <th>val_accuracy</th>\n",
              "      <th>epoch</th>\n",
              "      <th>Batch Size</th>\n",
              "    </tr>\n",
              "  </thead>\n",
              "  <tbody>\n",
              "    <tr>\n",
              "      <th>0</th>\n",
              "      <td>0.317242</td>\n",
              "      <td>0.909150</td>\n",
              "      <td>0.205025</td>\n",
              "      <td>0.9433</td>\n",
              "      <td>0</td>\n",
              "      <td>8_</td>\n",
              "    </tr>\n",
              "    <tr>\n",
              "      <th>1</th>\n",
              "      <td>0.191944</td>\n",
              "      <td>0.947800</td>\n",
              "      <td>0.176521</td>\n",
              "      <td>0.9524</td>\n",
              "      <td>1</td>\n",
              "      <td>8_</td>\n",
              "    </tr>\n",
              "    <tr>\n",
              "      <th>2</th>\n",
              "      <td>0.171206</td>\n",
              "      <td>0.956583</td>\n",
              "      <td>0.165573</td>\n",
              "      <td>0.9569</td>\n",
              "      <td>2</td>\n",
              "      <td>8_</td>\n",
              "    </tr>\n",
              "    <tr>\n",
              "      <th>3</th>\n",
              "      <td>0.164642</td>\n",
              "      <td>0.959650</td>\n",
              "      <td>0.181072</td>\n",
              "      <td>0.9574</td>\n",
              "      <td>3</td>\n",
              "      <td>8_</td>\n",
              "    </tr>\n",
              "    <tr>\n",
              "      <th>4</th>\n",
              "      <td>0.162956</td>\n",
              "      <td>0.962850</td>\n",
              "      <td>0.220717</td>\n",
              "      <td>0.9576</td>\n",
              "      <td>4</td>\n",
              "      <td>8_</td>\n",
              "    </tr>\n",
              "  </tbody>\n",
              "</table>\n",
              "</div>"
            ],
            "text/plain": [
              "       loss  accuracy  val_loss  val_accuracy  epoch Batch Size\n",
              "0  0.317242  0.909150  0.205025        0.9433      0         8_\n",
              "1  0.191944  0.947800  0.176521        0.9524      1         8_\n",
              "2  0.171206  0.956583  0.165573        0.9569      2         8_\n",
              "3  0.164642  0.959650  0.181072        0.9574      3         8_\n",
              "4  0.162956  0.962850  0.220717        0.9576      4         8_"
            ]
          },
          "metadata": {
            "tags": []
          },
          "execution_count": 13
        }
      ]
    },
    {
      "cell_type": "code",
      "metadata": {
        "id": "TjspJIaEcNxy",
        "colab_type": "code",
        "colab": {
          "base_uri": "https://localhost:8080/",
          "height": 279
        },
        "outputId": "6249b564-7787-4bc3-ac96-1c4da766c318"
      },
      "source": [
        "sns.lineplot(x='epoch', y='val_accuracy', hue='Batch Size', data=df);"
      ],
      "execution_count": null,
      "outputs": [
        {
          "output_type": "display_data",
          "data": {
            "image/png": "[encoded data removed]",
            "text/plain": [
              "<Figure size 432x288 with 1 Axes>"
            ]
          },
          "metadata": {
            "tags": [],
            "needs_background": "light"
          }
        }
      ]
    },
    {
      "cell_type": "code",
      "metadata": {
        "id": "zZQuLHN5fG_N",
        "colab_type": "code",
        "colab": {
          "base_uri": "https://localhost:8080/",
          "height": 279
        },
        "outputId": "ff56174b-e0c6-4660-8ec4-d8a1ae5f41ba"
      },
      "source": [
        "sns.lineplot(x='epoch', y='val_loss', hue='Batch Size', data=df);"
      ],
      "execution_count": null,
      "outputs": [
        {
          "output_type": "display_data",
          "data": {
            "image/png": "[encoded data removed]",
            "text/plain": [
              "<Figure size 432x288 with 1 Axes>"
            ]
          },
          "metadata": {
            "tags": [],
            "needs_background": "light"
          }
        }
      ]
    },
    {
      "cell_type": "markdown",
      "metadata": {
        "colab_type": "text",
        "id": "8b-r70o8p2Dm"
      },
      "source": [
        "### Experiment with Learning Rate\n",
        "* Run 5 experiments with various learning rate magnitudes: 1, .1, .01, .001, .0001.\n",
        "* Use the \"best\" batch size from the previous experiment\n",
        "* Visualize the results\n",
        "* Write up an analysis of the experiments and select the \"best\" performing model among your experiments. Make sure to compare against the previous experiments and your model's performance yesterday. "
      ]
    },
    {
      "cell_type": "code",
      "metadata": {
        "id": "_SA144xx8Luf",
        "colab_type": "code",
        "colab": {
          "base_uri": "https://localhost:8080/",
          "height": 867
        },
        "outputId": "b7665062-97d4-4edf-ba91-3d14d718ccd5"
      },
      "source": [
        "lr_1 = create_model(lr=1).fit(X_train, y_train,\n",
        "                                epochs=25,\n",
        "                                batch_size=32,\n",
        "                                validation_data=(X_test, y_test))"
      ],
      "execution_count": null,
      "outputs": [
        {
          "output_type": "stream",
          "text": [
            "Epoch 1/25\n",
            "1875/1875 [==============================] - 4s 2ms/step - loss: 0.3238 - accuracy: 0.9078 - val_loss: 0.1976 - val_accuracy: 0.9390\n",
            "Epoch 2/25\n",
            "1875/1875 [==============================] - 4s 2ms/step - loss: 0.1765 - accuracy: 0.9488 - val_loss: 0.1644 - val_accuracy: 0.9492\n",
            "Epoch 3/25\n",
            "1875/1875 [==============================] - 4s 2ms/step - loss: 0.1386 - accuracy: 0.9589 - val_loss: 0.1435 - val_accuracy: 0.9578\n",
            "Epoch 4/25\n",
            "1875/1875 [==============================] - 4s 2ms/step - loss: 0.1198 - accuracy: 0.9653 - val_loss: 0.1297 - val_accuracy: 0.9635\n",
            "Epoch 5/25\n",
            "1875/1875 [==============================] - 4s 2ms/step - loss: 0.1080 - accuracy: 0.9692 - val_loss: 0.1237 - val_accuracy: 0.9671\n",
            "Epoch 6/25\n",
            "1875/1875 [==============================] - 4s 2ms/step - loss: 0.0994 - accuracy: 0.9711 - val_loss: 0.1174 - val_accuracy: 0.9684\n",
            "Epoch 7/25\n",
            "1875/1875 [==============================] - 4s 2ms/step - loss: 0.0919 - accuracy: 0.9736 - val_loss: 0.1227 - val_accuracy: 0.9663\n",
            "Epoch 8/25\n",
            "1875/1875 [==============================] - 4s 2ms/step - loss: 0.0868 - accuracy: 0.9754 - val_loss: 0.1275 - val_accuracy: 0.9691\n",
            "Epoch 9/25\n",
            "1875/1875 [==============================] - 4s 2ms/step - loss: 0.0821 - accuracy: 0.9766 - val_loss: 0.1318 - val_accuracy: 0.9663\n",
            "Epoch 10/25\n",
            "1875/1875 [==============================] - 4s 2ms/step - loss: 0.0777 - accuracy: 0.9780 - val_loss: 0.1477 - val_accuracy: 0.9626\n",
            "Epoch 11/25\n",
            "1875/1875 [==============================] - 4s 2ms/step - loss: 0.0763 - accuracy: 0.9785 - val_loss: 0.1275 - val_accuracy: 0.9697\n",
            "Epoch 12/25\n",
            "1875/1875 [==============================] - 4s 2ms/step - loss: 0.0720 - accuracy: 0.9797 - val_loss: 0.1301 - val_accuracy: 0.9686\n",
            "Epoch 13/25\n",
            "1875/1875 [==============================] - 4s 2ms/step - loss: 0.0694 - accuracy: 0.9805 - val_loss: 0.1352 - val_accuracy: 0.9712\n",
            "Epoch 14/25\n",
            "1875/1875 [==============================] - 4s 2ms/step - loss: 0.0682 - accuracy: 0.9811 - val_loss: 0.1415 - val_accuracy: 0.9689\n",
            "Epoch 15/25\n",
            "1875/1875 [==============================] - 4s 2ms/step - loss: 0.0653 - accuracy: 0.9822 - val_loss: 0.1449 - val_accuracy: 0.9705\n",
            "Epoch 16/25\n",
            "1875/1875 [==============================] - 4s 2ms/step - loss: 0.0629 - accuracy: 0.9826 - val_loss: 0.1517 - val_accuracy: 0.9659\n",
            "Epoch 17/25\n",
            "1875/1875 [==============================] - 4s 2ms/step - loss: 0.0628 - accuracy: 0.9829 - val_loss: 0.1451 - val_accuracy: 0.9707\n",
            "Epoch 18/25\n",
            "1875/1875 [==============================] - 4s 2ms/step - loss: 0.0594 - accuracy: 0.9840 - val_loss: 0.1702 - val_accuracy: 0.9652\n",
            "Epoch 19/25\n",
            "1875/1875 [==============================] - 4s 2ms/step - loss: 0.0597 - accuracy: 0.9842 - val_loss: 0.1600 - val_accuracy: 0.9689\n",
            "Epoch 20/25\n",
            "1875/1875 [==============================] - 4s 2ms/step - loss: 0.0571 - accuracy: 0.9847 - val_loss: 0.1667 - val_accuracy: 0.9695\n",
            "Epoch 21/25\n",
            "1875/1875 [==============================] - 4s 2ms/step - loss: 0.0539 - accuracy: 0.9859 - val_loss: 0.1707 - val_accuracy: 0.9686\n",
            "Epoch 22/25\n",
            "1875/1875 [==============================] - 4s 2ms/step - loss: 0.0524 - accuracy: 0.9859 - val_loss: 0.1709 - val_accuracy: 0.9688\n",
            "Epoch 23/25\n",
            "1875/1875 [==============================] - 4s 2ms/step - loss: 0.0514 - accuracy: 0.9865 - val_loss: 0.1755 - val_accuracy: 0.9673\n",
            "Epoch 24/25\n",
            "1875/1875 [==============================] - 4s 2ms/step - loss: 0.0506 - accuracy: 0.9870 - val_loss: 0.1807 - val_accuracy: 0.9673\n",
            "Epoch 25/25\n",
            "1875/1875 [==============================] - 4s 2ms/step - loss: 0.0495 - accuracy: 0.9874 - val_loss: 0.1896 - val_accuracy: 0.9653\n"
          ],
          "name": "stdout"
        }
      ]
    },
    {
      "cell_type": "code",
      "metadata": {
        "id": "kNlcMaWos9M1",
        "colab_type": "code",
        "colab": {
          "base_uri": "https://localhost:8080/",
          "height": 867
        },
        "outputId": "2858ceb8-a7d3-4650-b6b4-7064b632ac24"
      },
      "source": [
        "lr_p1 = create_model(lr=0.1).fit(X_train, y_train,\n",
        "                                epochs=25,\n",
        "                                batch_size=32,\n",
        "                                validation_data=(X_test, y_test))"
      ],
      "execution_count": null,
      "outputs": [
        {
          "output_type": "stream",
          "text": [
            "Epoch 1/25\n",
            "1875/1875 [==============================] - 4s 2ms/step - loss: 0.3267 - accuracy: 0.9076 - val_loss: 0.1924 - val_accuracy: 0.9440\n",
            "Epoch 2/25\n",
            "1875/1875 [==============================] - 4s 2ms/step - loss: 0.1768 - accuracy: 0.9487 - val_loss: 0.1555 - val_accuracy: 0.9557\n",
            "Epoch 3/25\n",
            "1875/1875 [==============================] - 4s 2ms/step - loss: 0.1448 - accuracy: 0.9580 - val_loss: 0.1414 - val_accuracy: 0.9591\n",
            "Epoch 4/25\n",
            "1875/1875 [==============================] - 4s 2ms/step - loss: 0.1282 - accuracy: 0.9632 - val_loss: 0.1337 - val_accuracy: 0.9642\n",
            "Epoch 5/25\n",
            "1875/1875 [==============================] - 4s 2ms/step - loss: 0.1158 - accuracy: 0.9667 - val_loss: 0.1353 - val_accuracy: 0.9625\n",
            "Epoch 6/25\n",
            "1875/1875 [==============================] - 4s 2ms/step - loss: 0.1062 - accuracy: 0.9701 - val_loss: 0.1491 - val_accuracy: 0.9618\n",
            "Epoch 7/25\n",
            "1875/1875 [==============================] - 4s 2ms/step - loss: 0.0982 - accuracy: 0.9727 - val_loss: 0.1370 - val_accuracy: 0.9629\n",
            "Epoch 8/25\n",
            "1875/1875 [==============================] - 4s 2ms/step - loss: 0.0940 - accuracy: 0.9732 - val_loss: 0.1465 - val_accuracy: 0.9622\n",
            "Epoch 9/25\n",
            "1875/1875 [==============================] - 4s 2ms/step - loss: 0.0889 - accuracy: 0.9754 - val_loss: 0.1397 - val_accuracy: 0.9643\n",
            "Epoch 10/25\n",
            "1875/1875 [==============================] - 4s 2ms/step - loss: 0.0837 - accuracy: 0.9772 - val_loss: 0.1480 - val_accuracy: 0.9645\n",
            "Epoch 11/25\n",
            "1875/1875 [==============================] - 4s 2ms/step - loss: 0.0793 - accuracy: 0.9782 - val_loss: 0.1584 - val_accuracy: 0.9634\n",
            "Epoch 12/25\n",
            "1875/1875 [==============================] - 4s 2ms/step - loss: 0.0761 - accuracy: 0.9789 - val_loss: 0.1403 - val_accuracy: 0.9680\n",
            "Epoch 13/25\n",
            "1875/1875 [==============================] - 4s 2ms/step - loss: 0.0737 - accuracy: 0.9798 - val_loss: 0.1339 - val_accuracy: 0.9677\n",
            "Epoch 14/25\n",
            "1875/1875 [==============================] - 4s 2ms/step - loss: 0.0714 - accuracy: 0.9806 - val_loss: 0.1465 - val_accuracy: 0.9659\n",
            "Epoch 15/25\n",
            "1875/1875 [==============================] - 4s 2ms/step - loss: 0.0694 - accuracy: 0.9807 - val_loss: 0.1649 - val_accuracy: 0.9649\n",
            "Epoch 16/25\n",
            "1875/1875 [==============================] - 4s 2ms/step - loss: 0.0653 - accuracy: 0.9814 - val_loss: 0.1478 - val_accuracy: 0.9661\n",
            "Epoch 17/25\n",
            "1875/1875 [==============================] - 4s 2ms/step - loss: 0.0650 - accuracy: 0.9825 - val_loss: 0.1595 - val_accuracy: 0.9641\n",
            "Epoch 18/25\n",
            "1875/1875 [==============================] - 4s 2ms/step - loss: 0.0625 - accuracy: 0.9829 - val_loss: 0.1680 - val_accuracy: 0.9653\n",
            "Epoch 19/25\n",
            "1875/1875 [==============================] - 4s 2ms/step - loss: 0.0615 - accuracy: 0.9834 - val_loss: 0.1635 - val_accuracy: 0.9656\n",
            "Epoch 20/25\n",
            "1875/1875 [==============================] - 4s 2ms/step - loss: 0.0604 - accuracy: 0.9839 - val_loss: 0.1635 - val_accuracy: 0.9657\n",
            "Epoch 21/25\n",
            "1875/1875 [==============================] - 4s 2ms/step - loss: 0.0584 - accuracy: 0.9848 - val_loss: 0.1733 - val_accuracy: 0.9650\n",
            "Epoch 22/25\n",
            "1875/1875 [==============================] - 4s 2ms/step - loss: 0.0572 - accuracy: 0.9846 - val_loss: 0.1870 - val_accuracy: 0.9647\n",
            "Epoch 23/25\n",
            "1875/1875 [==============================] - 4s 2ms/step - loss: 0.0550 - accuracy: 0.9854 - val_loss: 0.1888 - val_accuracy: 0.9650\n",
            "Epoch 24/25\n",
            "1875/1875 [==============================] - 4s 2ms/step - loss: 0.0543 - accuracy: 0.9856 - val_loss: 0.2090 - val_accuracy: 0.9615\n",
            "Epoch 25/25\n",
            "1875/1875 [==============================] - 4s 2ms/step - loss: 0.0532 - accuracy: 0.9862 - val_loss: 0.1941 - val_accuracy: 0.9624\n"
          ],
          "name": "stdout"
        }
      ]
    },
    {
      "cell_type": "code",
      "metadata": {
        "id": "p3MsztBCs9Ri",
        "colab_type": "code",
        "colab": {
          "base_uri": "https://localhost:8080/",
          "height": 867
        },
        "outputId": "ad85918d-f962-45cb-8d56-7751c7d6769b"
      },
      "source": [
        "lr_01 = create_model(lr=0.01).fit(X_train, y_train,\n",
        "                                epochs=25,\n",
        "                                batch_size=32,\n",
        "                                validation_data=(X_test, y_test))"
      ],
      "execution_count": null,
      "outputs": [
        {
          "output_type": "stream",
          "text": [
            "Epoch 1/25\n",
            "1875/1875 [==============================] - 4s 2ms/step - loss: 0.3519 - accuracy: 0.8982 - val_loss: 0.1906 - val_accuracy: 0.9448\n",
            "Epoch 2/25\n",
            "1875/1875 [==============================] - 4s 2ms/step - loss: 0.1788 - accuracy: 0.9486 - val_loss: 0.1546 - val_accuracy: 0.9541\n",
            "Epoch 3/25\n",
            "1875/1875 [==============================] - 4s 2ms/step - loss: 0.1409 - accuracy: 0.9599 - val_loss: 0.1285 - val_accuracy: 0.9618\n",
            "Epoch 4/25\n",
            "1875/1875 [==============================] - 4s 2ms/step - loss: 0.1216 - accuracy: 0.9645 - val_loss: 0.1195 - val_accuracy: 0.9647\n",
            "Epoch 5/25\n",
            "1875/1875 [==============================] - 4s 2ms/step - loss: 0.1104 - accuracy: 0.9674 - val_loss: 0.1264 - val_accuracy: 0.9632\n",
            "Epoch 6/25\n",
            "1875/1875 [==============================] - 4s 2ms/step - loss: 0.1007 - accuracy: 0.9704 - val_loss: 0.1145 - val_accuracy: 0.9681\n",
            "Epoch 7/25\n",
            "1875/1875 [==============================] - 4s 2ms/step - loss: 0.0932 - accuracy: 0.9732 - val_loss: 0.1206 - val_accuracy: 0.9686\n",
            "Epoch 8/25\n",
            "1875/1875 [==============================] - 4s 2ms/step - loss: 0.0875 - accuracy: 0.9747 - val_loss: 0.1302 - val_accuracy: 0.9643\n",
            "Epoch 9/25\n",
            "1875/1875 [==============================] - 4s 2ms/step - loss: 0.0822 - accuracy: 0.9760 - val_loss: 0.1237 - val_accuracy: 0.9684\n",
            "Epoch 10/25\n",
            "1875/1875 [==============================] - 4s 2ms/step - loss: 0.0775 - accuracy: 0.9776 - val_loss: 0.1240 - val_accuracy: 0.9672\n",
            "Epoch 11/25\n",
            "1875/1875 [==============================] - 4s 2ms/step - loss: 0.0762 - accuracy: 0.9780 - val_loss: 0.1171 - val_accuracy: 0.9695\n",
            "Epoch 12/25\n",
            "1875/1875 [==============================] - 4s 2ms/step - loss: 0.0723 - accuracy: 0.9794 - val_loss: 0.1222 - val_accuracy: 0.9690\n",
            "Epoch 13/25\n",
            "1875/1875 [==============================] - 4s 2ms/step - loss: 0.0696 - accuracy: 0.9802 - val_loss: 0.1228 - val_accuracy: 0.9701\n",
            "Epoch 14/25\n",
            "1875/1875 [==============================] - 4s 2ms/step - loss: 0.0679 - accuracy: 0.9806 - val_loss: 0.1296 - val_accuracy: 0.9693\n",
            "Epoch 15/25\n",
            "1875/1875 [==============================] - 4s 2ms/step - loss: 0.0655 - accuracy: 0.9817 - val_loss: 0.1365 - val_accuracy: 0.9682\n",
            "Epoch 16/25\n",
            "1875/1875 [==============================] - 4s 2ms/step - loss: 0.0626 - accuracy: 0.9834 - val_loss: 0.1294 - val_accuracy: 0.9706\n",
            "Epoch 17/25\n",
            "1875/1875 [==============================] - 4s 2ms/step - loss: 0.0606 - accuracy: 0.9837 - val_loss: 0.1527 - val_accuracy: 0.9665\n",
            "Epoch 18/25\n",
            "1875/1875 [==============================] - 4s 2ms/step - loss: 0.0586 - accuracy: 0.9843 - val_loss: 0.1429 - val_accuracy: 0.9679\n",
            "Epoch 19/25\n",
            "1875/1875 [==============================] - 4s 2ms/step - loss: 0.0579 - accuracy: 0.9842 - val_loss: 0.1556 - val_accuracy: 0.9663\n",
            "Epoch 20/25\n",
            "1875/1875 [==============================] - 4s 2ms/step - loss: 0.0556 - accuracy: 0.9847 - val_loss: 0.1501 - val_accuracy: 0.9690\n",
            "Epoch 21/25\n",
            "1875/1875 [==============================] - 4s 2ms/step - loss: 0.0546 - accuracy: 0.9851 - val_loss: 0.1498 - val_accuracy: 0.9687\n",
            "Epoch 22/25\n",
            "1875/1875 [==============================] - 4s 2ms/step - loss: 0.0519 - accuracy: 0.9853 - val_loss: 0.1671 - val_accuracy: 0.9670\n",
            "Epoch 23/25\n",
            "1875/1875 [==============================] - 4s 2ms/step - loss: 0.0500 - accuracy: 0.9867 - val_loss: 0.1657 - val_accuracy: 0.9649\n",
            "Epoch 24/25\n",
            "1875/1875 [==============================] - 4s 2ms/step - loss: 0.0503 - accuracy: 0.9863 - val_loss: 0.1670 - val_accuracy: 0.9692\n",
            "Epoch 25/25\n",
            "1875/1875 [==============================] - 4s 2ms/step - loss: 0.0481 - accuracy: 0.9870 - val_loss: 0.1781 - val_accuracy: 0.9685\n"
          ],
          "name": "stdout"
        }
      ]
    },
    {
      "cell_type": "code",
      "metadata": {
        "id": "1l1KdO3Ps9WD",
        "colab_type": "code",
        "colab": {
          "base_uri": "https://localhost:8080/",
          "height": 867
        },
        "outputId": "74daa4f9-9907-442b-e9f2-2f2fb8f2765e"
      },
      "source": [
        "lr_001 = create_model(lr=0.001).fit(X_train, y_train,\n",
        "                                epochs=25,\n",
        "                                batch_size=32,\n",
        "                                validation_data=(X_test, y_test))"
      ],
      "execution_count": null,
      "outputs": [
        {
          "output_type": "stream",
          "text": [
            "Epoch 1/25\n",
            "1875/1875 [==============================] - 4s 2ms/step - loss: 0.3428 - accuracy: 0.9007 - val_loss: 0.1845 - val_accuracy: 0.9455\n",
            "Epoch 2/25\n",
            "1875/1875 [==============================] - 4s 2ms/step - loss: 0.1718 - accuracy: 0.9488 - val_loss: 0.1528 - val_accuracy: 0.9544\n",
            "Epoch 3/25\n",
            "1875/1875 [==============================] - 4s 2ms/step - loss: 0.1381 - accuracy: 0.9591 - val_loss: 0.1372 - val_accuracy: 0.9591\n",
            "Epoch 4/25\n",
            "1875/1875 [==============================] - 4s 2ms/step - loss: 0.1172 - accuracy: 0.9654 - val_loss: 0.1294 - val_accuracy: 0.9627\n",
            "Epoch 5/25\n",
            "1875/1875 [==============================] - 4s 2ms/step - loss: 0.1070 - accuracy: 0.9686 - val_loss: 0.1227 - val_accuracy: 0.9647\n",
            "Epoch 6/25\n",
            "1875/1875 [==============================] - 4s 2ms/step - loss: 0.0969 - accuracy: 0.9718 - val_loss: 0.1307 - val_accuracy: 0.9633\n",
            "Epoch 7/25\n",
            "1875/1875 [==============================] - 4s 2ms/step - loss: 0.0901 - accuracy: 0.9738 - val_loss: 0.1193 - val_accuracy: 0.9670\n",
            "Epoch 8/25\n",
            "1875/1875 [==============================] - 4s 2ms/step - loss: 0.0850 - accuracy: 0.9755 - val_loss: 0.1175 - val_accuracy: 0.9695\n",
            "Epoch 9/25\n",
            "1875/1875 [==============================] - 4s 2ms/step - loss: 0.0803 - accuracy: 0.9769 - val_loss: 0.1227 - val_accuracy: 0.9678\n",
            "Epoch 10/25\n",
            "1875/1875 [==============================] - 4s 2ms/step - loss: 0.0757 - accuracy: 0.9785 - val_loss: 0.1235 - val_accuracy: 0.9681\n",
            "Epoch 11/25\n",
            "1875/1875 [==============================] - 4s 2ms/step - loss: 0.0734 - accuracy: 0.9787 - val_loss: 0.1259 - val_accuracy: 0.9680\n",
            "Epoch 12/25\n",
            "1875/1875 [==============================] - 4s 2ms/step - loss: 0.0699 - accuracy: 0.9799 - val_loss: 0.1294 - val_accuracy: 0.9674\n",
            "Epoch 13/25\n",
            "1875/1875 [==============================] - 4s 2ms/step - loss: 0.0663 - accuracy: 0.9808 - val_loss: 0.1265 - val_accuracy: 0.9692\n",
            "Epoch 14/25\n",
            "1875/1875 [==============================] - 4s 2ms/step - loss: 0.0640 - accuracy: 0.9821 - val_loss: 0.1400 - val_accuracy: 0.9659\n",
            "Epoch 15/25\n",
            "1875/1875 [==============================] - 4s 2ms/step - loss: 0.0631 - accuracy: 0.9821 - val_loss: 0.1371 - val_accuracy: 0.9680\n",
            "Epoch 16/25\n",
            "1875/1875 [==============================] - 4s 2ms/step - loss: 0.0604 - accuracy: 0.9829 - val_loss: 0.1413 - val_accuracy: 0.9658\n",
            "Epoch 17/25\n",
            "1875/1875 [==============================] - 4s 2ms/step - loss: 0.0593 - accuracy: 0.9837 - val_loss: 0.1553 - val_accuracy: 0.9663\n",
            "Epoch 18/25\n",
            "1875/1875 [==============================] - 4s 2ms/step - loss: 0.0566 - accuracy: 0.9847 - val_loss: 0.1492 - val_accuracy: 0.9681\n",
            "Epoch 19/25\n",
            "1875/1875 [==============================] - 4s 2ms/step - loss: 0.0555 - accuracy: 0.9848 - val_loss: 0.1611 - val_accuracy: 0.9659\n",
            "Epoch 20/25\n",
            "1875/1875 [==============================] - 4s 2ms/step - loss: 0.0537 - accuracy: 0.9852 - val_loss: 0.1551 - val_accuracy: 0.9676\n",
            "Epoch 21/25\n",
            "1875/1875 [==============================] - 4s 2ms/step - loss: 0.0507 - accuracy: 0.9858 - val_loss: 0.1558 - val_accuracy: 0.9687\n",
            "Epoch 22/25\n",
            "1875/1875 [==============================] - 4s 2ms/step - loss: 0.0511 - accuracy: 0.9862 - val_loss: 0.1651 - val_accuracy: 0.9671\n",
            "Epoch 23/25\n",
            "1875/1875 [==============================] - 4s 2ms/step - loss: 0.0490 - accuracy: 0.9866 - val_loss: 0.1706 - val_accuracy: 0.9668\n",
            "Epoch 24/25\n",
            "1875/1875 [==============================] - 4s 2ms/step - loss: 0.0489 - accuracy: 0.9870 - val_loss: 0.1789 - val_accuracy: 0.9653\n",
            "Epoch 25/25\n",
            "1875/1875 [==============================] - 4s 2ms/step - loss: 0.0465 - accuracy: 0.9876 - val_loss: 0.1748 - val_accuracy: 0.9662\n"
          ],
          "name": "stdout"
        }
      ]
    },
    {
      "cell_type": "code",
      "metadata": {
        "id": "VNamo_TNs9aZ",
        "colab_type": "code",
        "colab": {
          "base_uri": "https://localhost:8080/",
          "height": 867
        },
        "outputId": "aead5ad2-74f6-4932-d62d-f091781cc7ad"
      },
      "source": [
        "lr_0001 = create_model(lr=0.0001).fit(X_train, y_train,\n",
        "                                epochs=25,\n",
        "                                batch_size=32,\n",
        "                                validation_data=(X_test, y_test))"
      ],
      "execution_count": null,
      "outputs": [
        {
          "output_type": "stream",
          "text": [
            "Epoch 1/25\n",
            "1875/1875 [==============================] - 4s 2ms/step - loss: 0.3584 - accuracy: 0.8973 - val_loss: 0.2064 - val_accuracy: 0.9395\n",
            "Epoch 2/25\n",
            "1875/1875 [==============================] - 4s 2ms/step - loss: 0.1907 - accuracy: 0.9439 - val_loss: 0.1616 - val_accuracy: 0.9541\n",
            "Epoch 3/25\n",
            "1875/1875 [==============================] - 4s 2ms/step - loss: 0.1513 - accuracy: 0.9560 - val_loss: 0.1343 - val_accuracy: 0.9612\n",
            "Epoch 4/25\n",
            "1875/1875 [==============================] - 4s 2ms/step - loss: 0.1289 - accuracy: 0.9625 - val_loss: 0.1309 - val_accuracy: 0.9624\n",
            "Epoch 5/25\n",
            "1875/1875 [==============================] - 4s 2ms/step - loss: 0.1155 - accuracy: 0.9666 - val_loss: 0.1331 - val_accuracy: 0.9623\n",
            "Epoch 6/25\n",
            "1875/1875 [==============================] - 4s 2ms/step - loss: 0.1057 - accuracy: 0.9693 - val_loss: 0.1237 - val_accuracy: 0.9649\n",
            "Epoch 7/25\n",
            "1875/1875 [==============================] - 4s 2ms/step - loss: 0.0979 - accuracy: 0.9716 - val_loss: 0.1246 - val_accuracy: 0.9665\n",
            "Epoch 8/25\n",
            "1875/1875 [==============================] - 4s 2ms/step - loss: 0.0922 - accuracy: 0.9735 - val_loss: 0.1231 - val_accuracy: 0.9671\n",
            "Epoch 9/25\n",
            "1875/1875 [==============================] - 4s 2ms/step - loss: 0.0854 - accuracy: 0.9752 - val_loss: 0.1244 - val_accuracy: 0.9664\n",
            "Epoch 10/25\n",
            "1875/1875 [==============================] - 4s 2ms/step - loss: 0.0825 - accuracy: 0.9760 - val_loss: 0.1177 - val_accuracy: 0.9673\n",
            "Epoch 11/25\n",
            "1875/1875 [==============================] - 4s 2ms/step - loss: 0.0773 - accuracy: 0.9776 - val_loss: 0.1232 - val_accuracy: 0.9697\n",
            "Epoch 12/25\n",
            "1875/1875 [==============================] - 4s 2ms/step - loss: 0.0754 - accuracy: 0.9785 - val_loss: 0.1290 - val_accuracy: 0.9669\n",
            "Epoch 13/25\n",
            "1875/1875 [==============================] - 4s 2ms/step - loss: 0.0728 - accuracy: 0.9795 - val_loss: 0.1250 - val_accuracy: 0.9676\n",
            "Epoch 14/25\n",
            "1875/1875 [==============================] - 4s 2ms/step - loss: 0.0687 - accuracy: 0.9807 - val_loss: 0.1187 - val_accuracy: 0.9684\n",
            "Epoch 15/25\n",
            "1875/1875 [==============================] - 4s 2ms/step - loss: 0.0662 - accuracy: 0.9815 - val_loss: 0.1219 - val_accuracy: 0.9689\n",
            "Epoch 16/25\n",
            "1875/1875 [==============================] - 4s 2ms/step - loss: 0.0638 - accuracy: 0.9823 - val_loss: 0.1301 - val_accuracy: 0.9680\n",
            "Epoch 17/25\n",
            "1875/1875 [==============================] - 4s 2ms/step - loss: 0.0622 - accuracy: 0.9831 - val_loss: 0.1288 - val_accuracy: 0.9692\n",
            "Epoch 18/25\n",
            "1875/1875 [==============================] - 4s 2ms/step - loss: 0.0614 - accuracy: 0.9829 - val_loss: 0.1366 - val_accuracy: 0.9673\n",
            "Epoch 19/25\n",
            "1875/1875 [==============================] - 4s 2ms/step - loss: 0.0593 - accuracy: 0.9841 - val_loss: 0.1414 - val_accuracy: 0.9677\n",
            "Epoch 20/25\n",
            "1875/1875 [==============================] - 4s 2ms/step - loss: 0.0575 - accuracy: 0.9843 - val_loss: 0.1355 - val_accuracy: 0.9686\n",
            "Epoch 21/25\n",
            "1875/1875 [==============================] - 4s 2ms/step - loss: 0.0561 - accuracy: 0.9848 - val_loss: 0.1322 - val_accuracy: 0.9699\n",
            "Epoch 22/25\n",
            "1875/1875 [==============================] - 4s 2ms/step - loss: 0.0556 - accuracy: 0.9850 - val_loss: 0.1398 - val_accuracy: 0.9692\n",
            "Epoch 23/25\n",
            "1875/1875 [==============================] - 4s 2ms/step - loss: 0.0518 - accuracy: 0.9865 - val_loss: 0.1485 - val_accuracy: 0.9674\n",
            "Epoch 24/25\n",
            "1875/1875 [==============================] - 4s 2ms/step - loss: 0.0516 - accuracy: 0.9864 - val_loss: 0.1449 - val_accuracy: 0.9682\n",
            "Epoch 25/25\n",
            "1875/1875 [==============================] - 4s 2ms/step - loss: 0.0498 - accuracy: 0.9867 - val_loss: 0.1710 - val_accuracy: 0.9651\n"
          ],
          "name": "stdout"
        }
      ]
    },
    {
      "cell_type": "code",
      "metadata": {
        "id": "pXlcvKMntCew",
        "colab_type": "code",
        "colab": {
          "base_uri": "https://localhost:8080/",
          "height": 204
        },
        "outputId": "07855ace-ee81-48f3-b65b-cded08f8c05c"
      },
      "source": [
        "import seaborn as sns\n",
        "import pandas as pd\n",
        "\n",
        "batch_sizes = []\n",
        "\n",
        "for exp, result in zip([lr_1, lr_p1, lr_01, lr_001, lr_0001], \n",
        "                       [\"1_\", \".1_\", \".01_\", \".001_\", \".0001_\"]):\n",
        "\n",
        "  df = pd.DataFrame.from_dict(exp.history)\n",
        "  df['epoch'] = df.index.values\n",
        "  df['Learning Rate'] = result\n",
        "\n",
        "  batch_sizes.append(df)\n",
        "\n",
        "df = pd.concat(batch_sizes)\n",
        "df['Learning Rate'] = df['Learning Rate'].astype('str')\n",
        "df.head()"
      ],
      "execution_count": null,
      "outputs": [
        {
          "output_type": "execute_result",
          "data": {
            "text/html": [
              "<div>\n",
              "<style scoped>\n",
              "    .dataframe tbody tr th:only-of-type {\n",
              "        vertical-align: middle;\n",
              "    }\n",
              "\n",
              "    .dataframe tbody tr th {\n",
              "        vertical-align: top;\n",
              "    }\n",
              "\n",
              "    .dataframe thead th {\n",
              "        text-align: right;\n",
              "    }\n",
              "</style>\n",
              "<table border=\"1\" class=\"dataframe\">\n",
              "  <thead>\n",
              "    <tr style=\"text-align: right;\">\n",
              "      <th></th>\n",
              "      <th>loss</th>\n",
              "      <th>accuracy</th>\n",
              "      <th>val_loss</th>\n",
              "      <th>val_accuracy</th>\n",
              "      <th>epoch</th>\n",
              "      <th>Learning Rate</th>\n",
              "    </tr>\n",
              "  </thead>\n",
              "  <tbody>\n",
              "    <tr>\n",
              "      <th>0</th>\n",
              "      <td>0.323815</td>\n",
              "      <td>0.907767</td>\n",
              "      <td>0.197599</td>\n",
              "      <td>0.9390</td>\n",
              "      <td>0</td>\n",
              "      <td>1_</td>\n",
              "    </tr>\n",
              "    <tr>\n",
              "      <th>1</th>\n",
              "      <td>0.176463</td>\n",
              "      <td>0.948750</td>\n",
              "      <td>0.164381</td>\n",
              "      <td>0.9492</td>\n",
              "      <td>1</td>\n",
              "      <td>1_</td>\n",
              "    </tr>\n",
              "    <tr>\n",
              "      <th>2</th>\n",
              "      <td>0.138619</td>\n",
              "      <td>0.958883</td>\n",
              "      <td>0.143501</td>\n",
              "      <td>0.9578</td>\n",
              "      <td>2</td>\n",
              "      <td>1_</td>\n",
              "    </tr>\n",
              "    <tr>\n",
              "      <th>3</th>\n",
              "      <td>0.119808</td>\n",
              "      <td>0.965317</td>\n",
              "      <td>0.129724</td>\n",
              "      <td>0.9635</td>\n",
              "      <td>3</td>\n",
              "      <td>1_</td>\n",
              "    </tr>\n",
              "    <tr>\n",
              "      <th>4</th>\n",
              "      <td>0.107951</td>\n",
              "      <td>0.969217</td>\n",
              "      <td>0.123674</td>\n",
              "      <td>0.9671</td>\n",
              "      <td>4</td>\n",
              "      <td>1_</td>\n",
              "    </tr>\n",
              "  </tbody>\n",
              "</table>\n",
              "</div>"
            ],
            "text/plain": [
              "       loss  accuracy  val_loss  val_accuracy  epoch Learning Rate\n",
              "0  0.323815  0.907767  0.197599        0.9390      0            1_\n",
              "1  0.176463  0.948750  0.164381        0.9492      1            1_\n",
              "2  0.138619  0.958883  0.143501        0.9578      2            1_\n",
              "3  0.119808  0.965317  0.129724        0.9635      3            1_\n",
              "4  0.107951  0.969217  0.123674        0.9671      4            1_"
            ]
          },
          "metadata": {
            "tags": []
          },
          "execution_count": 21
        }
      ]
    },
    {
      "cell_type": "code",
      "metadata": {
        "id": "eM6TPryktCnq",
        "colab_type": "code",
        "colab": {
          "base_uri": "https://localhost:8080/",
          "height": 279
        },
        "outputId": "87218797-dd0e-4845-e998-54e9f73ece6b"
      },
      "source": [
        "sns.lineplot(x='epoch', y='val_accuracy', hue='Learning Rate', data=df);"
      ],
      "execution_count": null,
      "outputs": [
        {
          "output_type": "display_data",
          "data": {
            "image/png": "[encoded data removed]",
            "text/plain": [
              "<Figure size 432x288 with 1 Axes>"
            ]
          },
          "metadata": {
            "tags": [],
            "needs_background": "light"
          }
        }
      ]
    },
    {
      "cell_type": "code",
      "metadata": {
        "id": "N_Y1kFF_tCrP",
        "colab_type": "code",
        "colab": {
          "base_uri": "https://localhost:8080/",
          "height": 279
        },
        "outputId": "0a844f96-537b-4536-c351-9e75f6234c86"
      },
      "source": [
        "sns.lineplot(x='epoch', y='val_loss', hue='Learning Rate', data=df);"
      ],
      "execution_count": null,
      "outputs": [
        {
          "output_type": "display_data",
          "data": {
            "image/png": "[encoded data removed]",
            "text/plain": [
              "<Figure size 432x288 with 1 Axes>"
            ]
          },
          "metadata": {
            "tags": [],
            "needs_background": "light"
          }
        }
      ]
    },
    {
      "cell_type": "markdown",
      "metadata": {
        "id": "gxMtSRhV9Q7I",
        "colab_type": "text"
      },
      "source": [
        "### Experiment with different Optimizers\n",
        "* Run 5 experiments with various optimizers available in TensorFlow. See list [here](https://www.tensorflow.org/api_docs/python/tf/keras/optimizers)\n",
        "* Visualize the results\n",
        "* Write up an analysis of the experiments and select the \"best\" performing model among your experiments. Make sure to compare against the previous experiments and your model's performance yesterday.\n",
        "* Repeat the experiment combining Learning Rate and different optimizers. Does the best performing model change? "
      ]
    },
    {
      "cell_type": "code",
      "metadata": {
        "id": "ujLuzdNA91ip",
        "colab_type": "code",
        "colab": {
          "base_uri": "https://localhost:8080/",
          "height": 867
        },
        "outputId": "1efd9509-3bca-440e-c779-8ae866cb805a"
      },
      "source": [
        "adad = create_model(optimizer=Adadelta).fit(X_train, y_train,\n",
        "                                epochs=25,\n",
        "                                batch_size=32, \n",
        "                                validation_data=(X_test, y_test))"
      ],
      "execution_count": null,
      "outputs": [
        {
          "output_type": "stream",
          "text": [
            "Epoch 1/25\n",
            "1875/1875 [==============================] - 4s 2ms/step - loss: 0.3389 - accuracy: 0.9046 - val_loss: 0.1948 - val_accuracy: 0.9434\n",
            "Epoch 2/25\n",
            "1875/1875 [==============================] - 4s 2ms/step - loss: 0.1703 - accuracy: 0.9504 - val_loss: 0.1541 - val_accuracy: 0.9524\n",
            "Epoch 3/25\n",
            "1875/1875 [==============================] - 4s 2ms/step - loss: 0.1378 - accuracy: 0.9593 - val_loss: 0.1381 - val_accuracy: 0.9601\n",
            "Epoch 4/25\n",
            "1875/1875 [==============================] - 4s 2ms/step - loss: 0.1188 - accuracy: 0.9653 - val_loss: 0.1299 - val_accuracy: 0.9632\n",
            "Epoch 5/25\n",
            "1875/1875 [==============================] - 4s 2ms/step - loss: 0.1068 - accuracy: 0.9697 - val_loss: 0.1190 - val_accuracy: 0.9679\n",
            "Epoch 6/25\n",
            "1875/1875 [==============================] - 4s 2ms/step - loss: 0.0973 - accuracy: 0.9717 - val_loss: 0.1207 - val_accuracy: 0.9682\n",
            "Epoch 7/25\n",
            "1875/1875 [==============================] - 4s 2ms/step - loss: 0.0912 - accuracy: 0.9743 - val_loss: 0.1143 - val_accuracy: 0.9701\n",
            "Epoch 8/25\n",
            "1875/1875 [==============================] - 4s 2ms/step - loss: 0.0845 - accuracy: 0.9759 - val_loss: 0.1183 - val_accuracy: 0.9691\n",
            "Epoch 9/25\n",
            "1875/1875 [==============================] - 4s 2ms/step - loss: 0.0796 - accuracy: 0.9777 - val_loss: 0.1180 - val_accuracy: 0.9699\n",
            "Epoch 10/25\n",
            "1875/1875 [==============================] - 4s 2ms/step - loss: 0.0760 - accuracy: 0.9796 - val_loss: 0.1278 - val_accuracy: 0.9694\n",
            "Epoch 11/25\n",
            "1875/1875 [==============================] - 4s 2ms/step - loss: 0.0712 - accuracy: 0.9800 - val_loss: 0.1293 - val_accuracy: 0.9693\n",
            "Epoch 12/25\n",
            "1875/1875 [==============================] - 4s 2ms/step - loss: 0.0690 - accuracy: 0.9806 - val_loss: 0.1369 - val_accuracy: 0.9680\n",
            "Epoch 13/25\n",
            "1875/1875 [==============================] - 4s 2ms/step - loss: 0.0662 - accuracy: 0.9816 - val_loss: 0.1371 - val_accuracy: 0.9682\n",
            "Epoch 14/25\n",
            "1875/1875 [==============================] - 4s 2ms/step - loss: 0.0640 - accuracy: 0.9822 - val_loss: 0.1424 - val_accuracy: 0.9681\n",
            "Epoch 15/25\n",
            "1875/1875 [==============================] - 4s 2ms/step - loss: 0.0611 - accuracy: 0.9830 - val_loss: 0.1352 - val_accuracy: 0.9694\n",
            "Epoch 16/25\n",
            "1875/1875 [==============================] - 4s 2ms/step - loss: 0.0576 - accuracy: 0.9835 - val_loss: 0.1533 - val_accuracy: 0.9692\n",
            "Epoch 17/25\n",
            "1875/1875 [==============================] - 4s 2ms/step - loss: 0.0564 - accuracy: 0.9845 - val_loss: 0.1441 - val_accuracy: 0.9700\n",
            "Epoch 18/25\n",
            "1875/1875 [==============================] - 4s 2ms/step - loss: 0.0539 - accuracy: 0.9852 - val_loss: 0.1771 - val_accuracy: 0.9641\n",
            "Epoch 19/25\n",
            "1875/1875 [==============================] - 4s 2ms/step - loss: 0.0529 - accuracy: 0.9851 - val_loss: 0.1528 - val_accuracy: 0.9681\n",
            "Epoch 20/25\n",
            "1875/1875 [==============================] - 4s 2ms/step - loss: 0.0501 - accuracy: 0.9862 - val_loss: 0.1582 - val_accuracy: 0.9702\n",
            "Epoch 21/25\n",
            "1875/1875 [==============================] - 4s 2ms/step - loss: 0.0493 - accuracy: 0.9868 - val_loss: 0.1799 - val_accuracy: 0.9665\n",
            "Epoch 22/25\n",
            "1875/1875 [==============================] - 4s 2ms/step - loss: 0.0474 - accuracy: 0.9872 - val_loss: 0.1801 - val_accuracy: 0.9671\n",
            "Epoch 23/25\n",
            "1875/1875 [==============================] - 4s 2ms/step - loss: 0.0475 - accuracy: 0.9869 - val_loss: 0.1720 - val_accuracy: 0.9686\n",
            "Epoch 24/25\n",
            "1875/1875 [==============================] - 4s 2ms/step - loss: 0.0452 - accuracy: 0.9875 - val_loss: 0.1678 - val_accuracy: 0.9691\n",
            "Epoch 25/25\n",
            "1875/1875 [==============================] - 4s 2ms/step - loss: 0.0442 - accuracy: 0.9884 - val_loss: 0.1771 - val_accuracy: 0.9691\n"
          ],
          "name": "stdout"
        }
      ]
    },
    {
      "cell_type": "code",
      "metadata": {
        "id": "HvDZrapr-cEj",
        "colab_type": "code",
        "colab": {
          "base_uri": "https://localhost:8080/",
          "height": 867
        },
        "outputId": "0aec707f-852d-405b-ee62-dd569c3dc53e"
      },
      "source": [
        "agrad = create_model(optimizer=Adagrad).fit(X_train, y_train,\n",
        "                                epochs=25,\n",
        "                                batch_size=32, \n",
        "                                validation_data=(X_test, y_test))"
      ],
      "execution_count": null,
      "outputs": [
        {
          "output_type": "stream",
          "text": [
            "Epoch 1/25\n",
            "1875/1875 [==============================] - 4s 2ms/step - loss: 0.3450 - accuracy: 0.9003 - val_loss: 0.2065 - val_accuracy: 0.9369\n",
            "Epoch 2/25\n",
            "1875/1875 [==============================] - 4s 2ms/step - loss: 0.1877 - accuracy: 0.9442 - val_loss: 0.1640 - val_accuracy: 0.9494\n",
            "Epoch 3/25\n",
            "1875/1875 [==============================] - 4s 2ms/step - loss: 0.1514 - accuracy: 0.9553 - val_loss: 0.1439 - val_accuracy: 0.9566\n",
            "Epoch 4/25\n",
            "1875/1875 [==============================] - 4s 2ms/step - loss: 0.1293 - accuracy: 0.9619 - val_loss: 0.1373 - val_accuracy: 0.9583\n",
            "Epoch 5/25\n",
            "1875/1875 [==============================] - 4s 2ms/step - loss: 0.1150 - accuracy: 0.9658 - val_loss: 0.1278 - val_accuracy: 0.9632\n",
            "Epoch 6/25\n",
            "1875/1875 [==============================] - 4s 2ms/step - loss: 0.1037 - accuracy: 0.9703 - val_loss: 0.1256 - val_accuracy: 0.9634\n",
            "Epoch 7/25\n",
            "1875/1875 [==============================] - 4s 2ms/step - loss: 0.0952 - accuracy: 0.9726 - val_loss: 0.1312 - val_accuracy: 0.9630\n",
            "Epoch 8/25\n",
            "1875/1875 [==============================] - 4s 2ms/step - loss: 0.0912 - accuracy: 0.9740 - val_loss: 0.1344 - val_accuracy: 0.9635\n",
            "Epoch 9/25\n",
            "1875/1875 [==============================] - 4s 2ms/step - loss: 0.0860 - accuracy: 0.9758 - val_loss: 0.1227 - val_accuracy: 0.9679\n",
            "Epoch 10/25\n",
            "1875/1875 [==============================] - 4s 2ms/step - loss: 0.0821 - accuracy: 0.9769 - val_loss: 0.1297 - val_accuracy: 0.9657\n",
            "Epoch 11/25\n",
            "1875/1875 [==============================] - 4s 2ms/step - loss: 0.0785 - accuracy: 0.9786 - val_loss: 0.1270 - val_accuracy: 0.9682\n",
            "Epoch 12/25\n",
            "1875/1875 [==============================] - 4s 2ms/step - loss: 0.0747 - accuracy: 0.9790 - val_loss: 0.1324 - val_accuracy: 0.9680\n",
            "Epoch 13/25\n",
            "1875/1875 [==============================] - 4s 2ms/step - loss: 0.0718 - accuracy: 0.9801 - val_loss: 0.1310 - val_accuracy: 0.9697\n",
            "Epoch 14/25\n",
            "1875/1875 [==============================] - 4s 2ms/step - loss: 0.0690 - accuracy: 0.9811 - val_loss: 0.1279 - val_accuracy: 0.9691\n",
            "Epoch 15/25\n",
            "1875/1875 [==============================] - 4s 2ms/step - loss: 0.0679 - accuracy: 0.9814 - val_loss: 0.1416 - val_accuracy: 0.9676\n",
            "Epoch 16/25\n",
            "1875/1875 [==============================] - 4s 2ms/step - loss: 0.0639 - accuracy: 0.9822 - val_loss: 0.1378 - val_accuracy: 0.9679\n",
            "Epoch 17/25\n",
            "1875/1875 [==============================] - 4s 2ms/step - loss: 0.0609 - accuracy: 0.9829 - val_loss: 0.1503 - val_accuracy: 0.9670\n",
            "Epoch 18/25\n",
            "1875/1875 [==============================] - 4s 2ms/step - loss: 0.0601 - accuracy: 0.9835 - val_loss: 0.1412 - val_accuracy: 0.9688\n",
            "Epoch 19/25\n",
            "1875/1875 [==============================] - 4s 2ms/step - loss: 0.0572 - accuracy: 0.9840 - val_loss: 0.1581 - val_accuracy: 0.9664\n",
            "Epoch 20/25\n",
            "1875/1875 [==============================] - 4s 2ms/step - loss: 0.0573 - accuracy: 0.9842 - val_loss: 0.1499 - val_accuracy: 0.9688\n",
            "Epoch 21/25\n",
            "1875/1875 [==============================] - 4s 2ms/step - loss: 0.0545 - accuracy: 0.9854 - val_loss: 0.1593 - val_accuracy: 0.9692\n",
            "Epoch 22/25\n",
            "1875/1875 [==============================] - 4s 2ms/step - loss: 0.0534 - accuracy: 0.9858 - val_loss: 0.1489 - val_accuracy: 0.9704\n",
            "Epoch 23/25\n",
            "1875/1875 [==============================] - 4s 2ms/step - loss: 0.0510 - accuracy: 0.9863 - val_loss: 0.1598 - val_accuracy: 0.9684\n",
            "Epoch 24/25\n",
            "1875/1875 [==============================] - 4s 2ms/step - loss: 0.0499 - accuracy: 0.9863 - val_loss: 0.1836 - val_accuracy: 0.9666\n",
            "Epoch 25/25\n",
            "1875/1875 [==============================] - 4s 2ms/step - loss: 0.0489 - accuracy: 0.9870 - val_loss: 0.1803 - val_accuracy: 0.9676\n"
          ],
          "name": "stdout"
        }
      ]
    },
    {
      "cell_type": "code",
      "metadata": {
        "id": "xvahDzMj-eVp",
        "colab_type": "code",
        "colab": {
          "base_uri": "https://localhost:8080/",
          "height": 867
        },
        "outputId": "1e11c0cd-c221-48f3-d84c-5aa9548a48db"
      },
      "source": [
        "adam = create_model(optimizer=Adam).fit(X_train, y_train,\n",
        "                                epochs=25,\n",
        "                                batch_size=32, \n",
        "                                validation_data=(X_test, y_test))"
      ],
      "execution_count": null,
      "outputs": [
        {
          "output_type": "stream",
          "text": [
            "Epoch 1/25\n",
            "1875/1875 [==============================] - 4s 2ms/step - loss: 0.3391 - accuracy: 0.9040 - val_loss: 0.2012 - val_accuracy: 0.9393\n",
            "Epoch 2/25\n",
            "1875/1875 [==============================] - 4s 2ms/step - loss: 0.1756 - accuracy: 0.9490 - val_loss: 0.1500 - val_accuracy: 0.9574\n",
            "Epoch 3/25\n",
            "1875/1875 [==============================] - 4s 2ms/step - loss: 0.1429 - accuracy: 0.9582 - val_loss: 0.1452 - val_accuracy: 0.9584\n",
            "Epoch 4/25\n",
            "1875/1875 [==============================] - 4s 2ms/step - loss: 0.1242 - accuracy: 0.9634 - val_loss: 0.1544 - val_accuracy: 0.9557\n",
            "Epoch 5/25\n",
            "1875/1875 [==============================] - 4s 2ms/step - loss: 0.1126 - accuracy: 0.9673 - val_loss: 0.1491 - val_accuracy: 0.9586\n",
            "Epoch 6/25\n",
            "1875/1875 [==============================] - 4s 2ms/step - loss: 0.1034 - accuracy: 0.9697 - val_loss: 0.1465 - val_accuracy: 0.9615\n",
            "Epoch 7/25\n",
            "1875/1875 [==============================] - 4s 2ms/step - loss: 0.0975 - accuracy: 0.9720 - val_loss: 0.1343 - val_accuracy: 0.9640\n",
            "Epoch 8/25\n",
            "1875/1875 [==============================] - 4s 2ms/step - loss: 0.0916 - accuracy: 0.9732 - val_loss: 0.1613 - val_accuracy: 0.9600\n",
            "Epoch 9/25\n",
            "1875/1875 [==============================] - 4s 2ms/step - loss: 0.0877 - accuracy: 0.9755 - val_loss: 0.1377 - val_accuracy: 0.9664\n",
            "Epoch 10/25\n",
            "1875/1875 [==============================] - 4s 2ms/step - loss: 0.0834 - accuracy: 0.9771 - val_loss: 0.1334 - val_accuracy: 0.9692\n",
            "Epoch 11/25\n",
            "1875/1875 [==============================] - 4s 2ms/step - loss: 0.0800 - accuracy: 0.9774 - val_loss: 0.1313 - val_accuracy: 0.9683\n",
            "Epoch 12/25\n",
            "1875/1875 [==============================] - 4s 2ms/step - loss: 0.0771 - accuracy: 0.9787 - val_loss: 0.1310 - val_accuracy: 0.9679\n",
            "Epoch 13/25\n",
            "1875/1875 [==============================] - 4s 2ms/step - loss: 0.0729 - accuracy: 0.9797 - val_loss: 0.1422 - val_accuracy: 0.9672\n",
            "Epoch 14/25\n",
            "1875/1875 [==============================] - 4s 2ms/step - loss: 0.0707 - accuracy: 0.9800 - val_loss: 0.1467 - val_accuracy: 0.9652\n",
            "Epoch 15/25\n",
            "1875/1875 [==============================] - 4s 2ms/step - loss: 0.0668 - accuracy: 0.9815 - val_loss: 0.1592 - val_accuracy: 0.9662\n",
            "Epoch 16/25\n",
            "1875/1875 [==============================] - 4s 2ms/step - loss: 0.0658 - accuracy: 0.9812 - val_loss: 0.1414 - val_accuracy: 0.9674\n",
            "Epoch 17/25\n",
            "1875/1875 [==============================] - 4s 2ms/step - loss: 0.0621 - accuracy: 0.9822 - val_loss: 0.1491 - val_accuracy: 0.9690\n",
            "Epoch 18/25\n",
            "1875/1875 [==============================] - 4s 2ms/step - loss: 0.0616 - accuracy: 0.9833 - val_loss: 0.1550 - val_accuracy: 0.9671\n",
            "Epoch 19/25\n",
            "1875/1875 [==============================] - 4s 2ms/step - loss: 0.0586 - accuracy: 0.9838 - val_loss: 0.1600 - val_accuracy: 0.9674\n",
            "Epoch 20/25\n",
            "1875/1875 [==============================] - 4s 2ms/step - loss: 0.0575 - accuracy: 0.9837 - val_loss: 0.1573 - val_accuracy: 0.9705\n",
            "Epoch 21/25\n",
            "1875/1875 [==============================] - 4s 2ms/step - loss: 0.0553 - accuracy: 0.9848 - val_loss: 0.1651 - val_accuracy: 0.9684\n",
            "Epoch 22/25\n",
            "1875/1875 [==============================] - 4s 2ms/step - loss: 0.0563 - accuracy: 0.9848 - val_loss: 0.1676 - val_accuracy: 0.9700\n",
            "Epoch 23/25\n",
            "1875/1875 [==============================] - 4s 2ms/step - loss: 0.0532 - accuracy: 0.9855 - val_loss: 0.1804 - val_accuracy: 0.9671\n",
            "Epoch 24/25\n",
            "1875/1875 [==============================] - 4s 2ms/step - loss: 0.0502 - accuracy: 0.9861 - val_loss: 0.2021 - val_accuracy: 0.9668\n",
            "Epoch 25/25\n",
            "1875/1875 [==============================] - 4s 2ms/step - loss: 0.0496 - accuracy: 0.9864 - val_loss: 0.1926 - val_accuracy: 0.9672\n"
          ],
          "name": "stdout"
        }
      ]
    },
    {
      "cell_type": "code",
      "metadata": {
        "id": "_pvjskxn-cRi",
        "colab_type": "code",
        "colab": {
          "base_uri": "https://localhost:8080/",
          "height": 867
        },
        "outputId": "2f66337e-7b03-4e41-94dd-0d561aa3b9d3"
      },
      "source": [
        "adamax = create_model(optimizer=Adamax).fit(X_train, y_train,\n",
        "                                epochs=25,\n",
        "                                batch_size=32, \n",
        "                                validation_data=(X_test, y_test))"
      ],
      "execution_count": null,
      "outputs": [
        {
          "output_type": "stream",
          "text": [
            "Epoch 1/25\n",
            "1875/1875 [==============================] - 4s 2ms/step - loss: 0.3404 - accuracy: 0.9025 - val_loss: 0.2044 - val_accuracy: 0.9427\n",
            "Epoch 2/25\n",
            "1875/1875 [==============================] - 4s 2ms/step - loss: 0.1808 - accuracy: 0.9463 - val_loss: 0.1508 - val_accuracy: 0.9552\n",
            "Epoch 3/25\n",
            "1875/1875 [==============================] - 4s 2ms/step - loss: 0.1431 - accuracy: 0.9574 - val_loss: 0.1326 - val_accuracy: 0.9611\n",
            "Epoch 4/25\n",
            "1875/1875 [==============================] - 4s 2ms/step - loss: 0.1234 - accuracy: 0.9633 - val_loss: 0.1269 - val_accuracy: 0.9650\n",
            "Epoch 5/25\n",
            "1875/1875 [==============================] - 4s 2ms/step - loss: 0.1117 - accuracy: 0.9673 - val_loss: 0.1361 - val_accuracy: 0.9616\n",
            "Epoch 6/25\n",
            "1875/1875 [==============================] - 4s 2ms/step - loss: 0.1021 - accuracy: 0.9701 - val_loss: 0.1334 - val_accuracy: 0.9620\n",
            "Epoch 7/25\n",
            "1875/1875 [==============================] - 4s 2ms/step - loss: 0.0949 - accuracy: 0.9722 - val_loss: 0.1337 - val_accuracy: 0.9648\n",
            "Epoch 8/25\n",
            "1875/1875 [==============================] - 4s 2ms/step - loss: 0.0902 - accuracy: 0.9740 - val_loss: 0.1238 - val_accuracy: 0.9672\n",
            "Epoch 9/25\n",
            "1875/1875 [==============================] - 4s 2ms/step - loss: 0.0851 - accuracy: 0.9750 - val_loss: 0.1276 - val_accuracy: 0.9675\n",
            "Epoch 10/25\n",
            "1875/1875 [==============================] - 4s 2ms/step - loss: 0.0806 - accuracy: 0.9764 - val_loss: 0.1279 - val_accuracy: 0.9686\n",
            "Epoch 11/25\n",
            "1875/1875 [==============================] - 4s 2ms/step - loss: 0.0771 - accuracy: 0.9777 - val_loss: 0.1319 - val_accuracy: 0.9672\n",
            "Epoch 12/25\n",
            "1875/1875 [==============================] - 4s 2ms/step - loss: 0.0741 - accuracy: 0.9784 - val_loss: 0.1426 - val_accuracy: 0.9665\n",
            "Epoch 13/25\n",
            "1875/1875 [==============================] - 4s 2ms/step - loss: 0.0706 - accuracy: 0.9794 - val_loss: 0.1433 - val_accuracy: 0.9668\n",
            "Epoch 14/25\n",
            "1875/1875 [==============================] - 4s 2ms/step - loss: 0.0678 - accuracy: 0.9808 - val_loss: 0.1427 - val_accuracy: 0.9660\n",
            "Epoch 15/25\n",
            "1875/1875 [==============================] - 4s 2ms/step - loss: 0.0655 - accuracy: 0.9814 - val_loss: 0.1476 - val_accuracy: 0.9650\n",
            "Epoch 16/25\n",
            "1875/1875 [==============================] - 4s 2ms/step - loss: 0.0634 - accuracy: 0.9817 - val_loss: 0.1467 - val_accuracy: 0.9685\n",
            "Epoch 17/25\n",
            "1875/1875 [==============================] - 4s 2ms/step - loss: 0.0618 - accuracy: 0.9824 - val_loss: 0.1427 - val_accuracy: 0.9679\n",
            "Epoch 18/25\n",
            "1875/1875 [==============================] - 4s 2ms/step - loss: 0.0602 - accuracy: 0.9834 - val_loss: 0.1589 - val_accuracy: 0.9666\n",
            "Epoch 19/25\n",
            "1875/1875 [==============================] - 4s 2ms/step - loss: 0.0585 - accuracy: 0.9833 - val_loss: 0.1672 - val_accuracy: 0.9654\n",
            "Epoch 20/25\n",
            "1875/1875 [==============================] - 4s 2ms/step - loss: 0.0581 - accuracy: 0.9840 - val_loss: 0.1616 - val_accuracy: 0.9642\n",
            "Epoch 21/25\n",
            "1875/1875 [==============================] - 4s 2ms/step - loss: 0.0542 - accuracy: 0.9851 - val_loss: 0.1641 - val_accuracy: 0.9649\n",
            "Epoch 22/25\n",
            "1875/1875 [==============================] - 4s 2ms/step - loss: 0.0530 - accuracy: 0.9847 - val_loss: 0.1755 - val_accuracy: 0.9649\n",
            "Epoch 23/25\n",
            "1875/1875 [==============================] - 4s 2ms/step - loss: 0.0525 - accuracy: 0.9855 - val_loss: 0.1704 - val_accuracy: 0.9666\n",
            "Epoch 24/25\n",
            "1875/1875 [==============================] - 4s 2ms/step - loss: 0.0499 - accuracy: 0.9862 - val_loss: 0.1623 - val_accuracy: 0.9678\n",
            "Epoch 25/25\n",
            "1875/1875 [==============================] - 4s 2ms/step - loss: 0.0496 - accuracy: 0.9864 - val_loss: 0.1811 - val_accuracy: 0.9663\n"
          ],
          "name": "stdout"
        }
      ]
    },
    {
      "cell_type": "code",
      "metadata": {
        "id": "6sthQHUP-ccS",
        "colab_type": "code",
        "colab": {
          "base_uri": "https://localhost:8080/",
          "height": 867
        },
        "outputId": "663f64f0-1522-4085-d8fb-25ccef8614a5"
      },
      "source": [
        "ftrl = create_model(optimizer=Ftrl).fit(X_train, y_train,\n",
        "                                epochs=25,\n",
        "                                batch_size=32, \n",
        "                                validation_data=(X_test, y_test))"
      ],
      "execution_count": null,
      "outputs": [
        {
          "output_type": "stream",
          "text": [
            "Epoch 1/25\n",
            "1875/1875 [==============================] - 4s 2ms/step - loss: 0.3281 - accuracy: 0.9068 - val_loss: 0.1849 - val_accuracy: 0.9433\n",
            "Epoch 2/25\n",
            "1875/1875 [==============================] - 4s 2ms/step - loss: 0.1647 - accuracy: 0.9514 - val_loss: 0.1711 - val_accuracy: 0.9505\n",
            "Epoch 3/25\n",
            "1875/1875 [==============================] - 4s 2ms/step - loss: 0.1352 - accuracy: 0.9603 - val_loss: 0.1327 - val_accuracy: 0.9601\n",
            "Epoch 4/25\n",
            "1875/1875 [==============================] - 4s 2ms/step - loss: 0.1185 - accuracy: 0.9658 - val_loss: 0.1303 - val_accuracy: 0.9624\n",
            "Epoch 5/25\n",
            "1875/1875 [==============================] - 4s 2ms/step - loss: 0.1065 - accuracy: 0.9695 - val_loss: 0.1275 - val_accuracy: 0.9661\n",
            "Epoch 6/25\n",
            "1875/1875 [==============================] - 4s 2ms/step - loss: 0.0974 - accuracy: 0.9722 - val_loss: 0.1193 - val_accuracy: 0.9668\n",
            "Epoch 7/25\n",
            "1875/1875 [==============================] - 4s 2ms/step - loss: 0.0906 - accuracy: 0.9741 - val_loss: 0.1503 - val_accuracy: 0.9612\n",
            "Epoch 8/25\n",
            "1875/1875 [==============================] - 4s 2ms/step - loss: 0.0855 - accuracy: 0.9758 - val_loss: 0.1324 - val_accuracy: 0.9667\n",
            "Epoch 9/25\n",
            "1875/1875 [==============================] - 4s 2ms/step - loss: 0.0816 - accuracy: 0.9775 - val_loss: 0.1256 - val_accuracy: 0.9694\n",
            "Epoch 10/25\n",
            "1875/1875 [==============================] - 4s 2ms/step - loss: 0.0771 - accuracy: 0.9782 - val_loss: 0.1362 - val_accuracy: 0.9670\n",
            "Epoch 11/25\n",
            "1875/1875 [==============================] - 4s 2ms/step - loss: 0.0732 - accuracy: 0.9799 - val_loss: 0.1326 - val_accuracy: 0.9685\n",
            "Epoch 12/25\n",
            "1875/1875 [==============================] - 4s 2ms/step - loss: 0.0708 - accuracy: 0.9812 - val_loss: 0.1288 - val_accuracy: 0.9688\n",
            "Epoch 13/25\n",
            "1875/1875 [==============================] - 4s 2ms/step - loss: 0.0664 - accuracy: 0.9814 - val_loss: 0.1364 - val_accuracy: 0.9690\n",
            "Epoch 14/25\n",
            "1875/1875 [==============================] - 4s 2ms/step - loss: 0.0633 - accuracy: 0.9824 - val_loss: 0.1444 - val_accuracy: 0.9683\n",
            "Epoch 15/25\n",
            "1875/1875 [==============================] - 4s 2ms/step - loss: 0.0625 - accuracy: 0.9828 - val_loss: 0.1411 - val_accuracy: 0.9680\n",
            "Epoch 16/25\n",
            "1875/1875 [==============================] - 4s 2ms/step - loss: 0.0602 - accuracy: 0.9835 - val_loss: 0.1454 - val_accuracy: 0.9688\n",
            "Epoch 17/25\n",
            "1875/1875 [==============================] - 4s 2ms/step - loss: 0.0577 - accuracy: 0.9843 - val_loss: 0.1447 - val_accuracy: 0.9715\n",
            "Epoch 18/25\n",
            "1875/1875 [==============================] - 4s 2ms/step - loss: 0.0561 - accuracy: 0.9845 - val_loss: 0.1551 - val_accuracy: 0.9663\n",
            "Epoch 19/25\n",
            "1875/1875 [==============================] - 4s 2ms/step - loss: 0.0553 - accuracy: 0.9851 - val_loss: 0.1468 - val_accuracy: 0.9696\n",
            "Epoch 20/25\n",
            "1875/1875 [==============================] - 4s 2ms/step - loss: 0.0533 - accuracy: 0.9857 - val_loss: 0.1633 - val_accuracy: 0.9685\n",
            "Epoch 21/25\n",
            "1875/1875 [==============================] - 4s 2ms/step - loss: 0.0525 - accuracy: 0.9861 - val_loss: 0.1595 - val_accuracy: 0.9687\n",
            "Epoch 22/25\n",
            "1875/1875 [==============================] - 4s 2ms/step - loss: 0.0494 - accuracy: 0.9865 - val_loss: 0.1805 - val_accuracy: 0.9654\n",
            "Epoch 23/25\n",
            "1875/1875 [==============================] - 4s 2ms/step - loss: 0.0485 - accuracy: 0.9870 - val_loss: 0.1649 - val_accuracy: 0.9695\n",
            "Epoch 24/25\n",
            "1875/1875 [==============================] - 4s 2ms/step - loss: 0.0476 - accuracy: 0.9872 - val_loss: 0.1659 - val_accuracy: 0.9690\n",
            "Epoch 25/25\n",
            "1875/1875 [==============================] - 4s 2ms/step - loss: 0.0469 - accuracy: 0.9875 - val_loss: 0.1616 - val_accuracy: 0.9703\n"
          ],
          "name": "stdout"
        }
      ]
    },
    {
      "cell_type": "code",
      "metadata": {
        "id": "zJhXVZcN-cjT",
        "colab_type": "code",
        "colab": {
          "base_uri": "https://localhost:8080/",
          "height": 867
        },
        "outputId": "c7649d3d-8bc0-4a70-9a72-2726621a2752"
      },
      "source": [
        "nadam = create_model(optimizer=Nadam).fit(X_train, y_train,\n",
        "                                epochs=25,\n",
        "                                batch_size=32, \n",
        "                                validation_data=(X_test, y_test))"
      ],
      "execution_count": null,
      "outputs": [
        {
          "output_type": "stream",
          "text": [
            "Epoch 1/25\n",
            "1875/1875 [==============================] - 4s 2ms/step - loss: 0.3438 - accuracy: 0.9009 - val_loss: 0.2032 - val_accuracy: 0.9413\n",
            "Epoch 2/25\n",
            "1875/1875 [==============================] - 4s 2ms/step - loss: 0.1817 - accuracy: 0.9467 - val_loss: 0.1528 - val_accuracy: 0.9533\n",
            "Epoch 3/25\n",
            "1875/1875 [==============================] - 4s 2ms/step - loss: 0.1403 - accuracy: 0.9585 - val_loss: 0.1348 - val_accuracy: 0.9610\n",
            "Epoch 4/25\n",
            "1875/1875 [==============================] - 4s 2ms/step - loss: 0.1212 - accuracy: 0.9642 - val_loss: 0.1268 - val_accuracy: 0.9644\n",
            "Epoch 5/25\n",
            "1875/1875 [==============================] - 4s 2ms/step - loss: 0.1072 - accuracy: 0.9684 - val_loss: 0.1236 - val_accuracy: 0.9667\n",
            "Epoch 6/25\n",
            "1875/1875 [==============================] - 4s 2ms/step - loss: 0.0983 - accuracy: 0.9708 - val_loss: 0.1297 - val_accuracy: 0.9650\n",
            "Epoch 7/25\n",
            "1875/1875 [==============================] - 4s 2ms/step - loss: 0.0900 - accuracy: 0.9737 - val_loss: 0.1303 - val_accuracy: 0.9672\n",
            "Epoch 8/25\n",
            "1875/1875 [==============================] - 4s 2ms/step - loss: 0.0865 - accuracy: 0.9757 - val_loss: 0.1294 - val_accuracy: 0.9662\n",
            "Epoch 9/25\n",
            "1875/1875 [==============================] - 4s 2ms/step - loss: 0.0808 - accuracy: 0.9769 - val_loss: 0.1266 - val_accuracy: 0.9682\n",
            "Epoch 10/25\n",
            "1875/1875 [==============================] - 4s 2ms/step - loss: 0.0761 - accuracy: 0.9780 - val_loss: 0.1372 - val_accuracy: 0.9666\n",
            "Epoch 11/25\n",
            "1875/1875 [==============================] - 4s 2ms/step - loss: 0.0727 - accuracy: 0.9792 - val_loss: 0.1508 - val_accuracy: 0.9627\n",
            "Epoch 12/25\n",
            "1875/1875 [==============================] - 4s 2ms/step - loss: 0.0704 - accuracy: 0.9801 - val_loss: 0.1374 - val_accuracy: 0.9682\n",
            "Epoch 13/25\n",
            "1875/1875 [==============================] - 4s 2ms/step - loss: 0.0665 - accuracy: 0.9818 - val_loss: 0.1567 - val_accuracy: 0.9655\n",
            "Epoch 14/25\n",
            "1875/1875 [==============================] - 4s 2ms/step - loss: 0.0642 - accuracy: 0.9818 - val_loss: 0.1466 - val_accuracy: 0.9683\n",
            "Epoch 15/25\n",
            "1875/1875 [==============================] - 4s 2ms/step - loss: 0.0606 - accuracy: 0.9834 - val_loss: 0.1474 - val_accuracy: 0.9674\n",
            "Epoch 16/25\n",
            "1875/1875 [==============================] - 4s 2ms/step - loss: 0.0610 - accuracy: 0.9829 - val_loss: 0.1531 - val_accuracy: 0.9665\n",
            "Epoch 17/25\n",
            "1875/1875 [==============================] - 4s 2ms/step - loss: 0.0585 - accuracy: 0.9835 - val_loss: 0.1526 - val_accuracy: 0.9685\n",
            "Epoch 18/25\n",
            "1875/1875 [==============================] - 4s 2ms/step - loss: 0.0553 - accuracy: 0.9844 - val_loss: 0.1679 - val_accuracy: 0.9662\n",
            "Epoch 19/25\n",
            "1875/1875 [==============================] - 4s 2ms/step - loss: 0.0540 - accuracy: 0.9851 - val_loss: 0.1667 - val_accuracy: 0.9678\n",
            "Epoch 20/25\n",
            "1875/1875 [==============================] - 4s 2ms/step - loss: 0.0522 - accuracy: 0.9858 - val_loss: 0.1632 - val_accuracy: 0.9694\n",
            "Epoch 21/25\n",
            "1875/1875 [==============================] - 4s 2ms/step - loss: 0.0513 - accuracy: 0.9858 - val_loss: 0.1651 - val_accuracy: 0.9691\n",
            "Epoch 22/25\n",
            "1875/1875 [==============================] - 4s 2ms/step - loss: 0.0483 - accuracy: 0.9866 - val_loss: 0.1812 - val_accuracy: 0.9661\n",
            "Epoch 23/25\n",
            "1875/1875 [==============================] - 4s 2ms/step - loss: 0.0474 - accuracy: 0.9870 - val_loss: 0.1870 - val_accuracy: 0.9670\n",
            "Epoch 24/25\n",
            "1875/1875 [==============================] - 4s 2ms/step - loss: 0.0471 - accuracy: 0.9872 - val_loss: 0.1806 - val_accuracy: 0.9667\n",
            "Epoch 25/25\n",
            "1875/1875 [==============================] - 4s 2ms/step - loss: 0.0458 - accuracy: 0.9878 - val_loss: 0.1761 - val_accuracy: 0.9677\n"
          ],
          "name": "stdout"
        }
      ]
    },
    {
      "cell_type": "code",
      "metadata": {
        "id": "fvbBzKt1-cw0",
        "colab_type": "code",
        "colab": {
          "base_uri": "https://localhost:8080/",
          "height": 867
        },
        "outputId": "0bd2f7fd-89e4-498a-aa9c-b854e141f26c"
      },
      "source": [
        "opt = create_model(optimizer=Optimizer).fit(X_train, y_train,\n",
        "                                epochs=25,\n",
        "                                batch_size=32, \n",
        "                                validation_data=(X_test, y_test))"
      ],
      "execution_count": null,
      "outputs": [
        {
          "output_type": "stream",
          "text": [
            "Epoch 1/25\n",
            "1875/1875 [==============================] - 4s 2ms/step - loss: 0.3412 - accuracy: 0.9022 - val_loss: 0.2085 - val_accuracy: 0.9366\n",
            "Epoch 2/25\n",
            "1875/1875 [==============================] - 4s 2ms/step - loss: 0.1812 - accuracy: 0.9466 - val_loss: 0.1519 - val_accuracy: 0.9561\n",
            "Epoch 3/25\n",
            "1875/1875 [==============================] - 4s 2ms/step - loss: 0.1442 - accuracy: 0.9581 - val_loss: 0.1380 - val_accuracy: 0.9598\n",
            "Epoch 4/25\n",
            "1875/1875 [==============================] - 4s 2ms/step - loss: 0.1237 - accuracy: 0.9638 - val_loss: 0.1277 - val_accuracy: 0.9621\n",
            "Epoch 5/25\n",
            "1875/1875 [==============================] - 4s 2ms/step - loss: 0.1103 - accuracy: 0.9677 - val_loss: 0.1221 - val_accuracy: 0.9663\n",
            "Epoch 6/25\n",
            "1875/1875 [==============================] - 4s 2ms/step - loss: 0.1019 - accuracy: 0.9712 - val_loss: 0.1210 - val_accuracy: 0.9675\n",
            "Epoch 7/25\n",
            "1875/1875 [==============================] - 4s 2ms/step - loss: 0.0923 - accuracy: 0.9740 - val_loss: 0.1247 - val_accuracy: 0.9660\n",
            "Epoch 8/25\n",
            "1875/1875 [==============================] - 4s 2ms/step - loss: 0.0867 - accuracy: 0.9757 - val_loss: 0.1189 - val_accuracy: 0.9690\n",
            "Epoch 9/25\n",
            "1875/1875 [==============================] - 4s 2ms/step - loss: 0.0822 - accuracy: 0.9768 - val_loss: 0.1228 - val_accuracy: 0.9689\n",
            "Epoch 10/25\n",
            "1875/1875 [==============================] - 4s 2ms/step - loss: 0.0776 - accuracy: 0.9783 - val_loss: 0.1314 - val_accuracy: 0.9679\n",
            "Epoch 11/25\n",
            "1875/1875 [==============================] - 4s 2ms/step - loss: 0.0746 - accuracy: 0.9802 - val_loss: 0.1246 - val_accuracy: 0.9688\n",
            "Epoch 12/25\n",
            "1875/1875 [==============================] - 4s 2ms/step - loss: 0.0712 - accuracy: 0.9809 - val_loss: 0.1233 - val_accuracy: 0.9693\n",
            "Epoch 13/25\n",
            "1875/1875 [==============================] - 4s 2ms/step - loss: 0.0680 - accuracy: 0.9810 - val_loss: 0.1221 - val_accuracy: 0.9713\n",
            "Epoch 14/25\n",
            "1875/1875 [==============================] - 4s 2ms/step - loss: 0.0657 - accuracy: 0.9822 - val_loss: 0.1255 - val_accuracy: 0.9708\n",
            "Epoch 15/25\n",
            "1875/1875 [==============================] - 4s 2ms/step - loss: 0.0643 - accuracy: 0.9821 - val_loss: 0.1360 - val_accuracy: 0.9675\n",
            "Epoch 16/25\n",
            "1875/1875 [==============================] - 4s 2ms/step - loss: 0.0610 - accuracy: 0.9838 - val_loss: 0.1314 - val_accuracy: 0.9719\n",
            "Epoch 17/25\n",
            "1875/1875 [==============================] - 4s 2ms/step - loss: 0.0580 - accuracy: 0.9845 - val_loss: 0.1437 - val_accuracy: 0.9701\n",
            "Epoch 18/25\n",
            "1875/1875 [==============================] - 4s 2ms/step - loss: 0.0579 - accuracy: 0.9847 - val_loss: 0.1498 - val_accuracy: 0.9688\n",
            "Epoch 19/25\n",
            "1875/1875 [==============================] - 4s 2ms/step - loss: 0.0545 - accuracy: 0.9854 - val_loss: 0.1514 - val_accuracy: 0.9681\n",
            "Epoch 20/25\n",
            "1875/1875 [==============================] - 4s 2ms/step - loss: 0.0534 - accuracy: 0.9856 - val_loss: 0.1442 - val_accuracy: 0.9699\n",
            "Epoch 21/25\n",
            "1875/1875 [==============================] - 4s 2ms/step - loss: 0.0513 - accuracy: 0.9863 - val_loss: 0.1427 - val_accuracy: 0.9708\n",
            "Epoch 22/25\n",
            "1875/1875 [==============================] - 4s 2ms/step - loss: 0.0515 - accuracy: 0.9870 - val_loss: 0.1445 - val_accuracy: 0.9699\n",
            "Epoch 23/25\n",
            "1875/1875 [==============================] - 4s 2ms/step - loss: 0.0495 - accuracy: 0.9866 - val_loss: 0.1518 - val_accuracy: 0.9699\n",
            "Epoch 24/25\n",
            "1875/1875 [==============================] - 4s 2ms/step - loss: 0.0475 - accuracy: 0.9873 - val_loss: 0.1641 - val_accuracy: 0.9699\n",
            "Epoch 25/25\n",
            "1875/1875 [==============================] - 4s 2ms/step - loss: 0.0475 - accuracy: 0.9877 - val_loss: 0.1634 - val_accuracy: 0.9700\n"
          ],
          "name": "stdout"
        }
      ]
    },
    {
      "cell_type": "code",
      "metadata": {
        "id": "8kEswHCG-czl",
        "colab_type": "code",
        "colab": {
          "base_uri": "https://localhost:8080/",
          "height": 867
        },
        "outputId": "57b91324-4448-4233-f316-cb7c3bf781d9"
      },
      "source": [
        "rms = create_model(optimizer=RMSprop).fit(X_train, y_train,\n",
        "                                epochs=25,\n",
        "                                batch_size=32, \n",
        "                                validation_data=(X_test, y_test))"
      ],
      "execution_count": null,
      "outputs": [
        {
          "output_type": "stream",
          "text": [
            "Epoch 1/25\n",
            "1875/1875 [==============================] - 4s 2ms/step - loss: 0.3557 - accuracy: 0.8992 - val_loss: 0.2084 - val_accuracy: 0.9385\n",
            "Epoch 2/25\n",
            "1875/1875 [==============================] - 4s 2ms/step - loss: 0.1910 - accuracy: 0.9441 - val_loss: 0.1581 - val_accuracy: 0.9538\n",
            "Epoch 3/25\n",
            "1875/1875 [==============================] - 4s 2ms/step - loss: 0.1463 - accuracy: 0.9574 - val_loss: 0.1464 - val_accuracy: 0.9583\n",
            "Epoch 4/25\n",
            "1875/1875 [==============================] - 4s 2ms/step - loss: 0.1235 - accuracy: 0.9643 - val_loss: 0.1344 - val_accuracy: 0.9637\n",
            "Epoch 5/25\n",
            "1875/1875 [==============================] - 4s 2ms/step - loss: 0.1098 - accuracy: 0.9678 - val_loss: 0.1382 - val_accuracy: 0.9600\n",
            "Epoch 6/25\n",
            "1875/1875 [==============================] - 4s 2ms/step - loss: 0.1004 - accuracy: 0.9713 - val_loss: 0.1275 - val_accuracy: 0.9653\n",
            "Epoch 7/25\n",
            "1875/1875 [==============================] - 4s 2ms/step - loss: 0.0951 - accuracy: 0.9732 - val_loss: 0.1257 - val_accuracy: 0.9680\n",
            "Epoch 8/25\n",
            "1875/1875 [==============================] - 4s 2ms/step - loss: 0.0897 - accuracy: 0.9748 - val_loss: 0.1281 - val_accuracy: 0.9689\n",
            "Epoch 9/25\n",
            "1875/1875 [==============================] - 4s 2ms/step - loss: 0.0857 - accuracy: 0.9760 - val_loss: 0.1253 - val_accuracy: 0.9672\n",
            "Epoch 10/25\n",
            "1875/1875 [==============================] - 4s 2ms/step - loss: 0.0817 - accuracy: 0.9778 - val_loss: 0.1282 - val_accuracy: 0.9681\n",
            "Epoch 11/25\n",
            "1875/1875 [==============================] - 4s 2ms/step - loss: 0.0773 - accuracy: 0.9781 - val_loss: 0.1424 - val_accuracy: 0.9654\n",
            "Epoch 12/25\n",
            "1875/1875 [==============================] - 4s 2ms/step - loss: 0.0762 - accuracy: 0.9793 - val_loss: 0.1541 - val_accuracy: 0.9645\n",
            "Epoch 13/25\n",
            "1875/1875 [==============================] - 4s 2ms/step - loss: 0.0734 - accuracy: 0.9792 - val_loss: 0.1359 - val_accuracy: 0.9692\n",
            "Epoch 14/25\n",
            "1875/1875 [==============================] - 4s 2ms/step - loss: 0.0696 - accuracy: 0.9809 - val_loss: 0.1418 - val_accuracy: 0.9683\n",
            "Epoch 15/25\n",
            "1875/1875 [==============================] - 4s 2ms/step - loss: 0.0679 - accuracy: 0.9816 - val_loss: 0.1478 - val_accuracy: 0.9677\n",
            "Epoch 16/25\n",
            "1875/1875 [==============================] - 4s 2ms/step - loss: 0.0660 - accuracy: 0.9822 - val_loss: 0.1478 - val_accuracy: 0.9684\n",
            "Epoch 17/25\n",
            "1875/1875 [==============================] - 4s 2ms/step - loss: 0.0640 - accuracy: 0.9828 - val_loss: 0.1629 - val_accuracy: 0.9663\n",
            "Epoch 18/25\n",
            "1875/1875 [==============================] - 4s 2ms/step - loss: 0.0617 - accuracy: 0.9833 - val_loss: 0.1662 - val_accuracy: 0.9677\n",
            "Epoch 19/25\n",
            "1875/1875 [==============================] - 4s 2ms/step - loss: 0.0612 - accuracy: 0.9833 - val_loss: 0.1703 - val_accuracy: 0.9651\n",
            "Epoch 20/25\n",
            "1875/1875 [==============================] - 4s 2ms/step - loss: 0.0589 - accuracy: 0.9845 - val_loss: 0.1638 - val_accuracy: 0.9683\n",
            "Epoch 21/25\n",
            "1875/1875 [==============================] - 4s 2ms/step - loss: 0.0582 - accuracy: 0.9843 - val_loss: 0.1634 - val_accuracy: 0.9683\n",
            "Epoch 22/25\n",
            "1875/1875 [==============================] - 4s 2ms/step - loss: 0.0568 - accuracy: 0.9850 - val_loss: 0.1889 - val_accuracy: 0.9647\n",
            "Epoch 23/25\n",
            "1875/1875 [==============================] - 4s 2ms/step - loss: 0.0558 - accuracy: 0.9848 - val_loss: 0.1728 - val_accuracy: 0.9672\n",
            "Epoch 24/25\n",
            "1875/1875 [==============================] - 4s 2ms/step - loss: 0.0540 - accuracy: 0.9859 - val_loss: 0.1800 - val_accuracy: 0.9673\n",
            "Epoch 25/25\n",
            "1875/1875 [==============================] - 4s 2ms/step - loss: 0.0539 - accuracy: 0.9862 - val_loss: 0.1752 - val_accuracy: 0.9678\n"
          ],
          "name": "stdout"
        }
      ]
    },
    {
      "cell_type": "code",
      "metadata": {
        "id": "BeBpeBSg-c3J",
        "colab_type": "code",
        "colab": {
          "base_uri": "https://localhost:8080/",
          "height": 867
        },
        "outputId": "becc32e0-f945-4127-b5c7-1a27be59059e"
      },
      "source": [
        "sgd = create_model(optimizer=SGD).fit(X_train, y_train,\n",
        "                                epochs=25,\n",
        "                                batch_size=32, \n",
        "                                validation_data=(X_test, y_test))"
      ],
      "execution_count": null,
      "outputs": [
        {
          "output_type": "stream",
          "text": [
            "Epoch 1/25\n",
            "1875/1875 [==============================] - 4s 2ms/step - loss: 0.3447 - accuracy: 0.9012 - val_loss: 0.2020 - val_accuracy: 0.9393\n",
            "Epoch 2/25\n",
            "1875/1875 [==============================] - 4s 2ms/step - loss: 0.1918 - accuracy: 0.9430 - val_loss: 0.1956 - val_accuracy: 0.9417\n",
            "Epoch 3/25\n",
            "1875/1875 [==============================] - 4s 2ms/step - loss: 0.1573 - accuracy: 0.9542 - val_loss: 0.1437 - val_accuracy: 0.9584\n",
            "Epoch 4/25\n",
            "1875/1875 [==============================] - 4s 2ms/step - loss: 0.1355 - accuracy: 0.9599 - val_loss: 0.1471 - val_accuracy: 0.9586\n",
            "Epoch 5/25\n",
            "1875/1875 [==============================] - 4s 2ms/step - loss: 0.1204 - accuracy: 0.9657 - val_loss: 0.1310 - val_accuracy: 0.9635\n",
            "Epoch 6/25\n",
            "1875/1875 [==============================] - 4s 2ms/step - loss: 0.1088 - accuracy: 0.9687 - val_loss: 0.1281 - val_accuracy: 0.9662\n",
            "Epoch 7/25\n",
            "1875/1875 [==============================] - 4s 2ms/step - loss: 0.1001 - accuracy: 0.9711 - val_loss: 0.1290 - val_accuracy: 0.9647\n",
            "Epoch 8/25\n",
            "1875/1875 [==============================] - 4s 2ms/step - loss: 0.0938 - accuracy: 0.9728 - val_loss: 0.1212 - val_accuracy: 0.9680\n",
            "Epoch 9/25\n",
            "1875/1875 [==============================] - 4s 2ms/step - loss: 0.0860 - accuracy: 0.9751 - val_loss: 0.1237 - val_accuracy: 0.9672\n",
            "Epoch 10/25\n",
            "1875/1875 [==============================] - 4s 2ms/step - loss: 0.0824 - accuracy: 0.9763 - val_loss: 0.1287 - val_accuracy: 0.9674\n",
            "Epoch 11/25\n",
            "1875/1875 [==============================] - 4s 2ms/step - loss: 0.0778 - accuracy: 0.9774 - val_loss: 0.1308 - val_accuracy: 0.9687\n",
            "Epoch 12/25\n",
            "1875/1875 [==============================] - 4s 2ms/step - loss: 0.0737 - accuracy: 0.9786 - val_loss: 0.1317 - val_accuracy: 0.9668\n",
            "Epoch 13/25\n",
            "1875/1875 [==============================] - 4s 2ms/step - loss: 0.0700 - accuracy: 0.9802 - val_loss: 0.1425 - val_accuracy: 0.9666\n",
            "Epoch 14/25\n",
            "1875/1875 [==============================] - 4s 2ms/step - loss: 0.0681 - accuracy: 0.9807 - val_loss: 0.1392 - val_accuracy: 0.9701\n",
            "Epoch 15/25\n",
            "1875/1875 [==============================] - 4s 2ms/step - loss: 0.0643 - accuracy: 0.9816 - val_loss: 0.1422 - val_accuracy: 0.9696\n",
            "Epoch 16/25\n",
            "1875/1875 [==============================] - 4s 2ms/step - loss: 0.0619 - accuracy: 0.9822 - val_loss: 0.1461 - val_accuracy: 0.9700\n",
            "Epoch 17/25\n",
            "1875/1875 [==============================] - 4s 2ms/step - loss: 0.0612 - accuracy: 0.9833 - val_loss: 0.1403 - val_accuracy: 0.9712\n",
            "Epoch 18/25\n",
            "1875/1875 [==============================] - 4s 2ms/step - loss: 0.0589 - accuracy: 0.9836 - val_loss: 0.1435 - val_accuracy: 0.9684\n",
            "Epoch 19/25\n",
            "1875/1875 [==============================] - 4s 2ms/step - loss: 0.0562 - accuracy: 0.9847 - val_loss: 0.1542 - val_accuracy: 0.9698\n",
            "Epoch 20/25\n",
            "1875/1875 [==============================] - 4s 2ms/step - loss: 0.0555 - accuracy: 0.9847 - val_loss: 0.1545 - val_accuracy: 0.9692\n",
            "Epoch 21/25\n",
            "1875/1875 [==============================] - 4s 2ms/step - loss: 0.0529 - accuracy: 0.9856 - val_loss: 0.1712 - val_accuracy: 0.9689\n",
            "Epoch 22/25\n",
            "1875/1875 [==============================] - 4s 2ms/step - loss: 0.0511 - accuracy: 0.9858 - val_loss: 0.1735 - val_accuracy: 0.9692\n",
            "Epoch 23/25\n",
            "1875/1875 [==============================] - 4s 2ms/step - loss: 0.0511 - accuracy: 0.9861 - val_loss: 0.1800 - val_accuracy: 0.9684\n",
            "Epoch 24/25\n",
            "1875/1875 [==============================] - 4s 2ms/step - loss: 0.0494 - accuracy: 0.9868 - val_loss: 0.1696 - val_accuracy: 0.9694\n",
            "Epoch 25/25\n",
            "1875/1875 [==============================] - 4s 2ms/step - loss: 0.0496 - accuracy: 0.9868 - val_loss: 0.1742 - val_accuracy: 0.9693\n"
          ],
          "name": "stdout"
        }
      ]
    },
    {
      "cell_type": "code",
      "metadata": {
        "id": "KxiyxjHT1NfQ",
        "colab_type": "code",
        "colab": {
          "base_uri": "https://localhost:8080/",
          "height": 204
        },
        "outputId": "0e7b4179-4995-4902-9728-bc99b3d19bfa"
      },
      "source": [
        "import seaborn as sns\n",
        "import pandas as pd\n",
        "\n",
        "batch_sizes = []\n",
        "\n",
        "for exp, result in zip([adad, agrad, adam, adamax, ftrl, nadam, opt, rms, sgd], \n",
        "                       [\"Adadelta_\", \"Adagrad_\", \"Adam_\", \"Adamax_\", \"Ftrl_\", \n",
        "                        \"Nadam_\", \"Optimizer_\", \"RMSprop_\", \"SGD_\"]):\n",
        "\n",
        "  df = pd.DataFrame.from_dict(exp.history)\n",
        "  df['epoch'] = df.index.values\n",
        "  df['Learning Rate'] = result\n",
        "\n",
        "  batch_sizes.append(df)\n",
        "\n",
        "df = pd.concat(batch_sizes)\n",
        "df['Learning Rate'] = df['Learning Rate'].astype('str')\n",
        "df.head()"
      ],
      "execution_count": null,
      "outputs": [
        {
          "output_type": "execute_result",
          "data": {
            "text/html": [
              "<div>\n",
              "<style scoped>\n",
              "    .dataframe tbody tr th:only-of-type {\n",
              "        vertical-align: middle;\n",
              "    }\n",
              "\n",
              "    .dataframe tbody tr th {\n",
              "        vertical-align: top;\n",
              "    }\n",
              "\n",
              "    .dataframe thead th {\n",
              "        text-align: right;\n",
              "    }\n",
              "</style>\n",
              "<table border=\"1\" class=\"dataframe\">\n",
              "  <thead>\n",
              "    <tr style=\"text-align: right;\">\n",
              "      <th></th>\n",
              "      <th>loss</th>\n",
              "      <th>accuracy</th>\n",
              "      <th>val_loss</th>\n",
              "      <th>val_accuracy</th>\n",
              "      <th>epoch</th>\n",
              "      <th>Learning Rate</th>\n",
              "    </tr>\n",
              "  </thead>\n",
              "  <tbody>\n",
              "    <tr>\n",
              "      <th>0</th>\n",
              "      <td>0.338854</td>\n",
              "      <td>0.904600</td>\n",
              "      <td>0.194831</td>\n",
              "      <td>0.9434</td>\n",
              "      <td>0</td>\n",
              "      <td>Adadelta_</td>\n",
              "    </tr>\n",
              "    <tr>\n",
              "      <th>1</th>\n",
              "      <td>0.170344</td>\n",
              "      <td>0.950400</td>\n",
              "      <td>0.154086</td>\n",
              "      <td>0.9524</td>\n",
              "      <td>1</td>\n",
              "      <td>Adadelta_</td>\n",
              "    </tr>\n",
              "    <tr>\n",
              "      <th>2</th>\n",
              "      <td>0.137788</td>\n",
              "      <td>0.959350</td>\n",
              "      <td>0.138080</td>\n",
              "      <td>0.9601</td>\n",
              "      <td>2</td>\n",
              "      <td>Adadelta_</td>\n",
              "    </tr>\n",
              "    <tr>\n",
              "      <th>3</th>\n",
              "      <td>0.118833</td>\n",
              "      <td>0.965267</td>\n",
              "      <td>0.129935</td>\n",
              "      <td>0.9632</td>\n",
              "      <td>3</td>\n",
              "      <td>Adadelta_</td>\n",
              "    </tr>\n",
              "    <tr>\n",
              "      <th>4</th>\n",
              "      <td>0.106840</td>\n",
              "      <td>0.969700</td>\n",
              "      <td>0.119042</td>\n",
              "      <td>0.9679</td>\n",
              "      <td>4</td>\n",
              "      <td>Adadelta_</td>\n",
              "    </tr>\n",
              "  </tbody>\n",
              "</table>\n",
              "</div>"
            ],
            "text/plain": [
              "       loss  accuracy  val_loss  val_accuracy  epoch Learning Rate\n",
              "0  0.338854  0.904600  0.194831        0.9434      0     Adadelta_\n",
              "1  0.170344  0.950400  0.154086        0.9524      1     Adadelta_\n",
              "2  0.137788  0.959350  0.138080        0.9601      2     Adadelta_\n",
              "3  0.118833  0.965267  0.129935        0.9632      3     Adadelta_\n",
              "4  0.106840  0.969700  0.119042        0.9679      4     Adadelta_"
            ]
          },
          "metadata": {
            "tags": []
          },
          "execution_count": 38
        }
      ]
    },
    {
      "cell_type": "code",
      "metadata": {
        "id": "cwf3M6-m1Nmy",
        "colab_type": "code",
        "colab": {
          "base_uri": "https://localhost:8080/",
          "height": 279
        },
        "outputId": "469abdc0-7725-4f48-9e12-53b3dd984471"
      },
      "source": [
        "sns.lineplot(x='epoch', y='val_accuracy', hue='Learning Rate', data=df);"
      ],
      "execution_count": null,
      "outputs": [
        {
          "output_type": "display_data",
          "data": {
            "image/png": "[encoded data removed]",
            "text/plain": [
              "<Figure size 432x288 with 1 Axes>"
            ]
          },
          "metadata": {
            "tags": [],
            "needs_background": "light"
          }
        }
      ]
    },
    {
      "cell_type": "code",
      "metadata": {
        "id": "9x8x5qX81Nqm",
        "colab_type": "code",
        "colab": {
          "base_uri": "https://localhost:8080/",
          "height": 279
        },
        "outputId": "6346d5e0-3ca7-491f-e140-56dc3f1b2347"
      },
      "source": [
        "sns.lineplot(x='epoch', y='val_loss', hue='Learning Rate', data=df);"
      ],
      "execution_count": null,
      "outputs": [
        {
          "output_type": "display_data",
          "data": {
            "image/png": "[encoded data removed]",
            "text/plain": [
              "<Figure size 432x288 with 1 Axes>"
            ]
          },
          "metadata": {
            "tags": [],
            "needs_background": "light"
          }
        }
      ]
    },
    {
      "cell_type": "markdown",
      "metadata": {
        "id": "ydAqeY9S8uHA",
        "colab_type": "text"
      },
      "source": [
        "### Additional Written Tasks\n",
        "\n",
        "1. Describe the process of backpropagation in your own words: \n",
        "\n",
        "In a Neural Network Backpropagation is the process of updating weights at the end of each training loop of a model. The weights of each layer is updated in reverse order. When a Neural Network loop is finished, the error of the ouput is calculated and used to update the weights. Once the weights have been updated the model is run again using the new weights in order to produce a more accurate output.\n",
        "\n",
        "\n"
      ]
    },
    {
      "cell_type": "markdown",
      "metadata": {
        "colab_type": "text",
        "id": "FwlRJSfBlCvy"
      },
      "source": [
        "## Stretch Goals: \n",
        "\n",
        "- Implement GridSearch on anyone of the experiments\n",
        "- On the learning rate experiments, implement [EarlyStopping](https://www.tensorflow.org/api_docs/python/tf/keras/callbacks/EarlyStopping)\n",
        "- Review material on the math behind gradient descent: \n",
        "\n",
        "  - Gradient Descent\n",
        "    - Gradient Descent, Step-by-Step  by StatQuest w/ Josh Starmer. This will help you understand the gradient descent based optimization that happens underneath the hood of neural networks. It uses a non-neural network example, which I believe is a gentler introduction. You will hear me refer to this technique as \"vanilla\" gradient descent. \n",
        "    - Stochastic Gradient Descent, Clearly Explained!!! by StatQuest w/ Josh Starmer. This builds on the techniques in the previous video.  This technique is the one that is actually implemented inside modern 'nets. \n",
        "These are great resources to help you understand tomorrow's material at a deeper level. I highly recommend watching these ahead of tomorrow.\n",
        "\n",
        "  - Background Math\n",
        "    - Dot products and duality by 3Blue1Brown. Explains the core linear algebra operation happening in today's perceptron.\n",
        "The paradox of the derivative by 3Blue1Brown. Does a great job explaining a derivative. \n",
        "    - Visualizing the chain rule and product rule by 3Blue1Brown. Explains the black magic that happens within Stochastic Gradient Descent. \n",
        "These math resources are very much optional. They can be very heady, but I encourage you to explore. Your understanding of neural networks will greatly increase if you understand this math background.\n",
        "\n",
        "\n"
      ]
    }
  ]
}